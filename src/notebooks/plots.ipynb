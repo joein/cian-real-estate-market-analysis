{
 "cells": [
  {
   "cell_type": "code",
   "execution_count": null,
   "id": "756520f8",
   "metadata": {},
   "outputs": [],
   "source": [
    "import pandas as pd\n",
    "import seaborn as sns\n",
    "import matplotlib as mpl\n",
    "import matplotlib.pyplot as plt\n",
    "sns.set()"
   ]
  },
  {
   "cell_type": "code",
   "execution_count": null,
   "id": "9355519c",
   "metadata": {},
   "outputs": [],
   "source": [
    "import os\n",
    "data_path = os.path.join(os.path.dirname(os.path.dirname(os.path.abspath(''))), \"data\", \"prepared_data.csv\")\n",
    "df = pd.read_csv(data_path, index_col=0)\n",
    "df.head()\n"
   ]
  },
  {
   "cell_type": "code",
   "execution_count": null,
   "id": "2ad6942e",
   "metadata": {},
   "outputs": [],
   "source": [
    "df.info()"
   ]
  },
  {
   "cell_type": "code",
   "execution_count": null,
   "id": "3e9c0923",
   "metadata": {},
   "outputs": [],
   "source": [
    "corr = df.corr()\n",
    "corr.style.background_gradient()"
   ]
  },
  {
   "cell_type": "code",
   "execution_count": null,
   "id": "d1aae2f0",
   "metadata": {},
   "outputs": [],
   "source": [
    "plt.figure(figsize=(18, 6))\n",
    "sns.lineplot(data=df, x=df['price'], y=df['general_sq']);"
   ]
  },
  {
   "cell_type": "code",
   "execution_count": null,
   "id": "61dd0964",
   "metadata": {},
   "outputs": [],
   "source": [
    "plt.figure(figsize=(18, 6))\n",
    "sns.lineplot(data=df, x=df['price'], y=df['floor']);"
   ]
  },
  {
   "cell_type": "code",
   "execution_count": null,
   "id": "7c66c645",
   "metadata": {},
   "outputs": [],
   "source": [
    "plt.figure(figsize=(18, 6))\n",
    "sns.lineplot(data=df, x=df['price'], y=df['total_floors']);"
   ]
  },
  {
   "cell_type": "code",
   "execution_count": null,
   "id": "d9af3c64",
   "metadata": {},
   "outputs": [],
   "source": [
    "plt.figure(figsize=(18, 6))\n",
    "general_sq_cnt_plt = sns.countplot(x=df['total_floors'], hue=df['new_building'])\n",
    "general_sq_cnt_plt.set_xticklabels(general_sq_cnt_plt.get_xticklabels(), rotation=90);"
   ]
  },
  {
   "cell_type": "code",
   "execution_count": null,
   "id": "096ddd45",
   "metadata": {},
   "outputs": [],
   "source": [
    "plt.figure(figsize=(25, 6))\n",
    "bar_plot = sns.barplot(data=df, x=\"built\", y=\"price\")\n",
    "bar_plot.set_xticklabels(bar_plot.get_xticklabels(), rotation=90);"
   ]
  },
  {
   "cell_type": "code",
   "execution_count": null,
   "id": "5b77649d",
   "metadata": {},
   "outputs": [],
   "source": [
    "rounded = df['general_sq'].round()"
   ]
  },
  {
   "cell_type": "code",
   "execution_count": null,
   "id": "c3ba8e1b",
   "metadata": {},
   "outputs": [],
   "source": [
    "plt.figure(figsize=(18, 6))\n",
    "general_sq_cnt_plt = sns.countplot(x=rounded)\n",
    "general_sq_cnt_plt.set_xticklabels(general_sq_cnt_plt.get_xticklabels(), rotation=90);"
   ]
  },
  {
   "cell_type": "code",
   "execution_count": null,
   "id": "dcebe5a8",
   "metadata": {},
   "outputs": [],
   "source": [
    "plt.figure(figsize=(25, 6))\n",
    "sns.lineplot(data=df, x=\"built\", y=\"general_sq\");"
   ]
  },
  {
   "cell_type": "code",
   "execution_count": null,
   "id": "f6fd96cd",
   "metadata": {},
   "outputs": [],
   "source": [
    "fig = plt.figure(figsize=(18, 6))\n",
    "sns.histplot(df['price']);\n",
    "fig.axes[0].xaxis.set_major_locator(mpl.ticker.MultipleLocator(0.5*10**6))"
   ]
  },
  {
   "cell_type": "code",
   "execution_count": null,
   "id": "230ac23e",
   "metadata": {},
   "outputs": [],
   "source": [
    "plt.figure(figsize=(25, 6))\n",
    "sq_meter_price = df['price'] / df['general_sq']\n",
    "sns.histplot(sq_meter_price);"
   ]
  },
  {
   "cell_type": "code",
   "execution_count": null,
   "id": "7540bf22",
   "metadata": {},
   "outputs": [],
   "source": [
    "plt.figure(figsize=(25, 10))\n",
    "sns.boxplot(data=df, x=\"new_building\", y=\"description_len\");"
   ]
  },
  {
   "cell_type": "code",
   "execution_count": null,
   "id": "416f4f09",
   "metadata": {},
   "outputs": [],
   "source": [
    "plt.figure(figsize=(25, 10))\n",
    "sns.boxplot(data=df, x=\"apartments\", y=\"ceil\");"
   ]
  },
  {
   "cell_type": "code",
   "execution_count": null,
   "id": "be7827fa",
   "metadata": {},
   "outputs": [],
   "source": [
    "plt.figure(figsize=(25, 10))\n",
    "sns.boxplot(data=df, x=\"apartments\", y=\"price\");"
   ]
  },
  {
   "cell_type": "code",
   "execution_count": null,
   "id": "74546bd9",
   "metadata": {},
   "outputs": [],
   "source": [
    "plt.figure(figsize=(25,8));\n",
    "sns.relplot(data=df, x='time_to_underground', y='general_sq', hue='district', palette='bright');"
   ]
  },
  {
   "cell_type": "code",
   "execution_count": null,
   "id": "4746eb61",
   "metadata": {},
   "outputs": [],
   "source": [
    "plt.figure(figsize=(25, 6))\n",
    "sq_meter_price = df['price'] / df['general_sq']\n",
    "df['sq_meter_price'] = sq_meter_price\n",
    "sns.boxplot(x='district', y='sq_meter_price', data=df);"
   ]
  },
  {
   "cell_type": "code",
   "execution_count": null,
   "id": "061ae850",
   "metadata": {},
   "outputs": [],
   "source": [
    "plt.figure(figsize=(25, 6))\n",
    "sq_meter_price = df['price'] / df['general_sq']\n",
    "df['sq_meter_price'] = sq_meter_price\n",
    "sns.boxplot(x='rooms', y='sq_meter_price', data=df);"
   ]
  },
  {
   "cell_type": "code",
   "execution_count": null,
   "id": "ddef3397",
   "metadata": {},
   "outputs": [],
   "source": [
    "fig, axes = plt.subplots(1, 2, figsize=(20, 6))\n",
    "\n",
    "sns.lineplot(x='time_to_underground', y='sq_meter_price', data=df[df['time_to_underground'] < 40], ax=axes[0]);\n",
    "sns.lineplot(x='time_to_underground', y='sq_meter_price', data=df, ax=axes[1]);"
   ]
  },
  {
   "cell_type": "code",
   "execution_count": null,
   "id": "90e60f19",
   "metadata": {},
   "outputs": [],
   "source": [
    "fig = plt.figure(figsize=(18, 8))\n",
    "sns.countplot(data=df, x='district')\n",
    "ax = fig.axes[0]\n",
    "ax.set_xticklabels(ax.get_xticklabels(), rotation=45);"
   ]
  },
  {
   "cell_type": "code",
   "execution_count": null,
   "id": "c631a8ab",
   "metadata": {},
   "outputs": [],
   "source": [
    "with plt.style.context('seaborn-dark-palette'):\n",
    "    sns.jointplot(x='price', y='general_sq', data=df, kind='hex', color='black')\n"
   ]
  },
  {
   "cell_type": "code",
   "execution_count": null,
   "id": "d34bc060",
   "metadata": {},
   "outputs": [],
   "source": []
  }
 ],
 "metadata": {
  "kernelspec": {
   "display_name": "Python 3 (ipykernel)",
   "language": "python",
   "name": "python3"
  },
  "language_info": {
   "codemirror_mode": {
    "name": "ipython",
    "version": 3
   },
   "file_extension": ".py",
   "mimetype": "text/x-python",
   "name": "python",
   "nbconvert_exporter": "python",
   "pygments_lexer": "ipython3",
   "version": "3.8.3"
  }
 },
 "nbformat": 4,
 "nbformat_minor": 5
}
