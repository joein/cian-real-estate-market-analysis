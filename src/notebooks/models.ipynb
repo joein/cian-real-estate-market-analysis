{
 "cells": [
  {
   "cell_type": "code",
   "execution_count": 1,
   "id": "a622e1e6",
   "metadata": {},
   "outputs": [],
   "source": [
    "from sklearn.model_selection import GridSearchCV, train_test_split"
   ]
  },
  {
   "cell_type": "code",
   "execution_count": 2,
   "id": "cd2a412c",
   "metadata": {},
   "outputs": [],
   "source": [
    "from sklearn.neighbors import KNeighborsRegressor"
   ]
  },
  {
   "cell_type": "code",
   "execution_count": 3,
   "id": "feaaf63c",
   "metadata": {},
   "outputs": [],
   "source": [
    "from sklearn.linear_model import LinearRegression, LogisticRegression, Ridge"
   ]
  },
  {
   "cell_type": "code",
   "execution_count": 4,
   "id": "f177acc6",
   "metadata": {},
   "outputs": [],
   "source": [
    "from sklearn.metrics import mean_squared_error, mean_absolute_error"
   ]
  },
  {
   "cell_type": "code",
   "execution_count": 5,
   "id": "c1ffef0b",
   "metadata": {},
   "outputs": [],
   "source": [
    "import numpy as np\n",
    "import pandas as pd"
   ]
  },
  {
   "cell_type": "code",
   "execution_count": 6,
   "id": "1c907887",
   "metadata": {},
   "outputs": [],
   "source": [
    "pd.set_option(\"display.max_columns\", 100)"
   ]
  },
  {
   "cell_type": "code",
   "execution_count": 7,
   "id": "97336ef4",
   "metadata": {},
   "outputs": [
    {
     "data": {
      "text/html": [
       "<div>\n",
       "<style scoped>\n",
       "    .dataframe tbody tr th:only-of-type {\n",
       "        vertical-align: middle;\n",
       "    }\n",
       "\n",
       "    .dataframe tbody tr th {\n",
       "        vertical-align: top;\n",
       "    }\n",
       "\n",
       "    .dataframe thead th {\n",
       "        text-align: right;\n",
       "    }\n",
       "</style>\n",
       "<table border=\"1\" class=\"dataframe\">\n",
       "  <thead>\n",
       "    <tr style=\"text-align: right;\">\n",
       "      <th></th>\n",
       "      <th>link</th>\n",
       "      <th>price</th>\n",
       "      <th>description_len</th>\n",
       "      <th>general_sq</th>\n",
       "      <th>floor</th>\n",
       "      <th>built</th>\n",
       "      <th>ceil</th>\n",
       "      <th>parking</th>\n",
       "      <th>time_to_underground</th>\n",
       "      <th>address</th>\n",
       "      <th>offer_dt</th>\n",
       "      <th>all_views</th>\n",
       "      <th>today_views</th>\n",
       "      <th>total_floors</th>\n",
       "      <th>apartments</th>\n",
       "      <th>new_building</th>\n",
       "      <th>courtyard_view</th>\n",
       "      <th>road_view</th>\n",
       "      <th>district</th>\n",
       "      <th>rooms</th>\n",
       "      <th>wc_amount</th>\n",
       "      <th>joint_wc</th>\n",
       "      <th>balcony</th>\n",
       "      <th>living_square_ratio</th>\n",
       "      <th>placed_days_ago</th>\n",
       "    </tr>\n",
       "  </thead>\n",
       "  <tbody>\n",
       "    <tr>\n",
       "      <th>0</th>\n",
       "      <td>https://www.cian.ru/sale/flat/258447697/</td>\n",
       "      <td>2280000.0</td>\n",
       "      <td>1623.0</td>\n",
       "      <td>11.4</td>\n",
       "      <td>4</td>\n",
       "      <td>1961.0</td>\n",
       "      <td>3.5</td>\n",
       "      <td>наземная</td>\n",
       "      <td>15.0</td>\n",
       "      <td>Москва, ВАО, р-н Северное Измайлово, Сиреневый...</td>\n",
       "      <td>2021-07-19 16:48:00</td>\n",
       "      <td>5391.0</td>\n",
       "      <td>116.0</td>\n",
       "      <td>4</td>\n",
       "      <td>True</td>\n",
       "      <td>False</td>\n",
       "      <td>True</td>\n",
       "      <td>False</td>\n",
       "      <td>ВАО</td>\n",
       "      <td>1</td>\n",
       "      <td>1</td>\n",
       "      <td>True</td>\n",
       "      <td>0</td>\n",
       "      <td>0.500000</td>\n",
       "      <td>12</td>\n",
       "    </tr>\n",
       "    <tr>\n",
       "      <th>1</th>\n",
       "      <td>https://www.cian.ru/sale/flat/258452553/</td>\n",
       "      <td>2310000.0</td>\n",
       "      <td>1620.0</td>\n",
       "      <td>11.4</td>\n",
       "      <td>4</td>\n",
       "      <td>1961.0</td>\n",
       "      <td>3.5</td>\n",
       "      <td>наземная</td>\n",
       "      <td>15.0</td>\n",
       "      <td>Москва, ВАО, р-н Северное Измайлово, Сиреневый...</td>\n",
       "      <td>2021-07-19 17:55:00</td>\n",
       "      <td>11594.0</td>\n",
       "      <td>81.0</td>\n",
       "      <td>4</td>\n",
       "      <td>True</td>\n",
       "      <td>False</td>\n",
       "      <td>True</td>\n",
       "      <td>False</td>\n",
       "      <td>ВАО</td>\n",
       "      <td>студия</td>\n",
       "      <td>1</td>\n",
       "      <td>True</td>\n",
       "      <td>0</td>\n",
       "      <td>0.500000</td>\n",
       "      <td>12</td>\n",
       "    </tr>\n",
       "    <tr>\n",
       "      <th>3</th>\n",
       "      <td>https://www.cian.ru/sale/flat/256222498/</td>\n",
       "      <td>2700000.0</td>\n",
       "      <td>1137.0</td>\n",
       "      <td>13.0</td>\n",
       "      <td>4</td>\n",
       "      <td>1980.0</td>\n",
       "      <td>4.0</td>\n",
       "      <td>наземная</td>\n",
       "      <td>15.0</td>\n",
       "      <td>Москва, ВАО, р-н Северное Измайлово, Сиреневый...</td>\n",
       "      <td>2021-07-24 12:53:00</td>\n",
       "      <td>12641.0</td>\n",
       "      <td>182.0</td>\n",
       "      <td>4</td>\n",
       "      <td>True</td>\n",
       "      <td>False</td>\n",
       "      <td>False</td>\n",
       "      <td>True</td>\n",
       "      <td>ВАО</td>\n",
       "      <td>студия</td>\n",
       "      <td>1</td>\n",
       "      <td>True</td>\n",
       "      <td>0</td>\n",
       "      <td>0.500000</td>\n",
       "      <td>7</td>\n",
       "    </tr>\n",
       "    <tr>\n",
       "      <th>4</th>\n",
       "      <td>https://www.cian.ru/sale/flat/260273278/</td>\n",
       "      <td>2750000.0</td>\n",
       "      <td>380.0</td>\n",
       "      <td>18.0</td>\n",
       "      <td>2</td>\n",
       "      <td>1952.0</td>\n",
       "      <td>3.3</td>\n",
       "      <td>наземная</td>\n",
       "      <td>6.0</td>\n",
       "      <td>Москва, НАО (Новомосковский), Щербинка, ул. Лю...</td>\n",
       "      <td>2021-07-18 15:05:00</td>\n",
       "      <td>1774.0</td>\n",
       "      <td>94.0</td>\n",
       "      <td>2</td>\n",
       "      <td>True</td>\n",
       "      <td>False</td>\n",
       "      <td>True</td>\n",
       "      <td>False</td>\n",
       "      <td>НАО (Новомосковский)</td>\n",
       "      <td>1</td>\n",
       "      <td>1</td>\n",
       "      <td>True</td>\n",
       "      <td>0</td>\n",
       "      <td>0.888889</td>\n",
       "      <td>13</td>\n",
       "    </tr>\n",
       "    <tr>\n",
       "      <th>5</th>\n",
       "      <td>https://www.cian.ru/sale/flat/258740783/</td>\n",
       "      <td>2790000.0</td>\n",
       "      <td>1375.0</td>\n",
       "      <td>18.0</td>\n",
       "      <td>7</td>\n",
       "      <td>2021.0</td>\n",
       "      <td>2.8</td>\n",
       "      <td>наземная</td>\n",
       "      <td>12.0</td>\n",
       "      <td>Москва, ЮВАО, р-н Нижегородский, Подъемная ул....</td>\n",
       "      <td>2021-07-18 13:29:00</td>\n",
       "      <td>7742.0</td>\n",
       "      <td>129.0</td>\n",
       "      <td>10</td>\n",
       "      <td>True</td>\n",
       "      <td>False</td>\n",
       "      <td>False</td>\n",
       "      <td>True</td>\n",
       "      <td>ЮВАО</td>\n",
       "      <td>студия</td>\n",
       "      <td>1</td>\n",
       "      <td>True</td>\n",
       "      <td>0</td>\n",
       "      <td>0.555556</td>\n",
       "      <td>13</td>\n",
       "    </tr>\n",
       "  </tbody>\n",
       "</table>\n",
       "</div>"
      ],
      "text/plain": [
       "                                       link      price  description_len  \\\n",
       "0  https://www.cian.ru/sale/flat/258447697/  2280000.0           1623.0   \n",
       "1  https://www.cian.ru/sale/flat/258452553/  2310000.0           1620.0   \n",
       "3  https://www.cian.ru/sale/flat/256222498/  2700000.0           1137.0   \n",
       "4  https://www.cian.ru/sale/flat/260273278/  2750000.0            380.0   \n",
       "5  https://www.cian.ru/sale/flat/258740783/  2790000.0           1375.0   \n",
       "\n",
       "   general_sq  floor   built  ceil   parking  time_to_underground  \\\n",
       "0        11.4      4  1961.0   3.5  наземная                 15.0   \n",
       "1        11.4      4  1961.0   3.5  наземная                 15.0   \n",
       "3        13.0      4  1980.0   4.0  наземная                 15.0   \n",
       "4        18.0      2  1952.0   3.3  наземная                  6.0   \n",
       "5        18.0      7  2021.0   2.8  наземная                 12.0   \n",
       "\n",
       "                                             address             offer_dt  \\\n",
       "0  Москва, ВАО, р-н Северное Измайлово, Сиреневый...  2021-07-19 16:48:00   \n",
       "1  Москва, ВАО, р-н Северное Измайлово, Сиреневый...  2021-07-19 17:55:00   \n",
       "3  Москва, ВАО, р-н Северное Измайлово, Сиреневый...  2021-07-24 12:53:00   \n",
       "4  Москва, НАО (Новомосковский), Щербинка, ул. Лю...  2021-07-18 15:05:00   \n",
       "5  Москва, ЮВАО, р-н Нижегородский, Подъемная ул....  2021-07-18 13:29:00   \n",
       "\n",
       "   all_views  today_views  total_floors  apartments  new_building  \\\n",
       "0     5391.0        116.0             4        True         False   \n",
       "1    11594.0         81.0             4        True         False   \n",
       "3    12641.0        182.0             4        True         False   \n",
       "4     1774.0         94.0             2        True         False   \n",
       "5     7742.0        129.0            10        True         False   \n",
       "\n",
       "   courtyard_view  road_view              district   rooms  wc_amount  \\\n",
       "0            True      False                   ВАО       1          1   \n",
       "1            True      False                   ВАО  студия          1   \n",
       "3           False       True                   ВАО  студия          1   \n",
       "4            True      False  НАО (Новомосковский)       1          1   \n",
       "5           False       True                  ЮВАО  студия          1   \n",
       "\n",
       "   joint_wc  balcony  living_square_ratio  placed_days_ago  \n",
       "0      True        0             0.500000               12  \n",
       "1      True        0             0.500000               12  \n",
       "3      True        0             0.500000                7  \n",
       "4      True        0             0.888889               13  \n",
       "5      True        0             0.555556               13  "
      ]
     },
     "execution_count": 7,
     "metadata": {},
     "output_type": "execute_result"
    }
   ],
   "source": [
    "df = pd.read_csv('prepared_data.csv', index_col=0)\n",
    "df.head()"
   ]
  },
  {
   "cell_type": "code",
   "execution_count": 8,
   "id": "a9cbea52",
   "metadata": {},
   "outputs": [],
   "source": [
    "from sklearn.preprocessing import OneHotEncoder, StandardScaler\n",
    "from sklearn.compose import ColumnTransformer"
   ]
  },
  {
   "cell_type": "code",
   "execution_count": 9,
   "id": "c3c13529",
   "metadata": {},
   "outputs": [],
   "source": [
    "ohe_columns = [\n",
    "    'parking',\n",
    "      'new_building',\n",
    "      'apartments', \n",
    "      'courtyard_view',\n",
    "      'road_view',\n",
    "      'district',\n",
    "      'rooms',\n",
    "      'joint_wc'\n",
    "              ]\n",
    "scaler_columns = [\n",
    "#     'price',\n",
    "                  'description_len',\n",
    "                  'general_sq',\n",
    "                  'floor',\n",
    "                  'built',\n",
    "                  'ceil',\n",
    "                  'time_to_underground',\n",
    "                  'all_views',\n",
    "                  'today_views',\n",
    "                  'total_floors',\n",
    "                  'wc_amount',\n",
    "                  'balcony',\n",
    "                  'living_square_ratio',\n",
    "                  'placed_days_ago'\n",
    "                 ]\n",
    "preprocessor = ColumnTransformer([\n",
    "    ('ohe', \n",
    "     OneHotEncoder(), \n",
    "     ohe_columns\n",
    "    ),\n",
    "    (('scaler', StandardScaler(), scaler_columns))\n",
    "], remainder='drop')\n",
    "\n",
    "\n"
   ]
  },
  {
   "cell_type": "code",
   "execution_count": null,
   "id": "0603c0d0",
   "metadata": {},
   "outputs": [],
   "source": []
  },
  {
   "cell_type": "code",
   "execution_count": 10,
   "id": "939c24e8",
   "metadata": {},
   "outputs": [],
   "source": [
    "from sklearn.pipeline import Pipeline"
   ]
  },
  {
   "cell_type": "code",
   "execution_count": null,
   "id": "d7d6353a",
   "metadata": {},
   "outputs": [],
   "source": []
  },
  {
   "cell_type": "code",
   "execution_count": 18,
   "id": "5e8f88c3",
   "metadata": {},
   "outputs": [],
   "source": [
    "clf = Pipeline(steps=[('preprocessor', preprocessor),\n",
    "                      ('classifier', LinearRegression())])\n"
   ]
  },
  {
   "cell_type": "code",
   "execution_count": 13,
   "id": "8cc6fd3b",
   "metadata": {},
   "outputs": [],
   "source": [
    "X = df.drop('price', axis=1)\n",
    "\n",
    "y = np.log1p(df['price'])\n",
    "X_train, X_test, y_train, y_test = train_test_split(X, y, test_size=0.2,\n",
    "                                                    random_state=42)\n",
    "\n",
    "\n"
   ]
  },
  {
   "cell_type": "code",
   "execution_count": 20,
   "id": "ebb59893",
   "metadata": {},
   "outputs": [
    {
     "name": "stdout",
     "output_type": "stream",
     "text": [
      "model score: 0.662\n"
     ]
    }
   ],
   "source": [
    "clf.fit(X_train, y_train)\n",
    "print(\"model score: %.3f\" % clf.score(X_test, y_test))"
   ]
  },
  {
   "cell_type": "code",
   "execution_count": 21,
   "id": "55ea6e85",
   "metadata": {},
   "outputs": [
    {
     "data": {
      "text/plain": [
       "0.09100792750072528"
      ]
     },
     "execution_count": 21,
     "metadata": {},
     "output_type": "execute_result"
    }
   ],
   "source": [
    "mean_absolute_error(y_test, clf.predict(X_test))"
   ]
  },
  {
   "cell_type": "code",
   "execution_count": 22,
   "id": "601aa8ba",
   "metadata": {},
   "outputs": [
    {
     "data": {
      "text/plain": [
       "0.015321110947194174"
      ]
     },
     "execution_count": 22,
     "metadata": {},
     "output_type": "execute_result"
    }
   ],
   "source": [
    "mean_squared_error(y_test, clf.predict(X_test))"
   ]
  },
  {
   "cell_type": "code",
   "execution_count": 14,
   "id": "cf49e01b",
   "metadata": {},
   "outputs": [],
   "source": [
    "clf_knn = Pipeline(steps=[('preprocessor', preprocessor),\n",
    "                      ('classifier', KNeighborsRegressor())])"
   ]
  },
  {
   "cell_type": "code",
   "execution_count": 15,
   "id": "df7327f4",
   "metadata": {},
   "outputs": [
    {
     "name": "stdout",
     "output_type": "stream",
     "text": [
      "model score: 0.700\n"
     ]
    }
   ],
   "source": [
    "clf_knn.fit(X_train, y_train)\n",
    "print(\"model score: %.3f\" % clf_knn.score(X_test, y_test))"
   ]
  },
  {
   "cell_type": "code",
   "execution_count": 16,
   "id": "4027de74",
   "metadata": {},
   "outputs": [
    {
     "data": {
      "text/plain": [
       "0.07830495658906915"
      ]
     },
     "execution_count": 16,
     "metadata": {},
     "output_type": "execute_result"
    }
   ],
   "source": [
    "mean_absolute_error(y_test, clf_knn.predict(X_test))"
   ]
  },
  {
   "cell_type": "code",
   "execution_count": 17,
   "id": "01ffc89d",
   "metadata": {},
   "outputs": [
    {
     "data": {
      "text/plain": [
       "0.01356724255168852"
      ]
     },
     "execution_count": 17,
     "metadata": {},
     "output_type": "execute_result"
    }
   ],
   "source": [
    "mean_squared_error(y_test, clf_knn.predict(X_test))"
   ]
  },
  {
   "cell_type": "code",
   "execution_count": null,
   "id": "32312ac0",
   "metadata": {},
   "outputs": [],
   "source": []
  }
 ],
 "metadata": {
  "kernelspec": {
   "display_name": "Python 3 (ipykernel)",
   "language": "python",
   "name": "python3"
  },
  "language_info": {
   "codemirror_mode": {
    "name": "ipython",
    "version": 3
   },
   "file_extension": ".py",
   "mimetype": "text/x-python",
   "name": "python",
   "nbconvert_exporter": "python",
   "pygments_lexer": "ipython3",
   "version": "3.8.3"
  }
 },
 "nbformat": 4,
 "nbformat_minor": 5
}
