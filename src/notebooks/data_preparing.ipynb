{
 "cells": [
  {
   "cell_type": "code",
   "execution_count": 2,
   "id": "5f4cc87a",
   "metadata": {},
   "outputs": [],
   "source": [
    "import numpy as np\n",
    "import pandas as pd\n",
    "\n",
    "from datetime import datetime as dt"
   ]
  },
  {
   "cell_type": "code",
   "execution_count": 3,
   "id": "b3c65fca",
   "metadata": {},
   "outputs": [],
   "source": [
    "pd.set_option('display.max_columns', 500)"
   ]
  },
  {
   "cell_type": "code",
   "execution_count": 46,
   "id": "174aa838",
   "metadata": {},
   "outputs": [
    {
     "data": {
      "text/plain": [
       "(9296, 39)"
      ]
     },
     "execution_count": 46,
     "metadata": {},
     "output_type": "execute_result"
    }
   ],
   "source": [
    "raw_df = pd.read_csv(\"brand_new_sample.csv\", index_col=0, parse_dates=['offer_dt'])\n",
    "raw_df.shape"
   ]
  },
  {
   "cell_type": "code",
   "execution_count": 47,
   "id": "1f5c76ff",
   "metadata": {},
   "outputs": [],
   "source": [
    "raw_df.drop_duplicates(inplace=True)"
   ]
  },
  {
   "cell_type": "code",
   "execution_count": 48,
   "id": "0da1ae91",
   "metadata": {},
   "outputs": [],
   "source": [
    "raw_df['Общая'] = raw_df['Общая'].apply(lambda x: float(x.split()[0].replace(',', '.')) if isinstance(x, str) else x)"
   ]
  },
  {
   "cell_type": "code",
   "execution_count": 49,
   "id": "0aa97965",
   "metadata": {},
   "outputs": [],
   "source": [
    "USD = 75.0\n",
    "\n",
    "raw_df[raw_df['price_currency'] == 'USD']['price'] = raw_df['price'] * USD "
   ]
  },
  {
   "cell_type": "code",
   "execution_count": 50,
   "id": "36e77f11",
   "metadata": {},
   "outputs": [],
   "source": [
    "raw_df.drop(raw_df[raw_df['agent_warning'] == True].index, inplace=True)\n",
    "raw_df.drop('agent_warning', axis=1, inplace=True)"
   ]
  },
  {
   "cell_type": "code",
   "execution_count": 51,
   "id": "b6a6cc87",
   "metadata": {},
   "outputs": [],
   "source": [
    "raw_df.drop(columns=['price_currency',\n",
    "    'Строительная серия',\n",
    "                     'Лифты',\n",
    "                     'Отопление',\n",
    "                     'Аварийность',\n",
    "                     'Тип перекрытий',\n",
    "                     'Мусоропровод',\n",
    "                     'Подъезды',\n",
    "                     'Отделка',\n",
    "                     'Сдан',\n",
    "                     'Ремонт',\n",
    "                    'Площадь комнат',\n",
    "                    'Кухня',\n",
    "                    'Газоснабжение',\n",
    "                    'Срок сдачи',\n",
    "                    'Планировка',\n",
    "                    'Тип дома'], inplace=True)"
   ]
  },
  {
   "cell_type": "code",
   "execution_count": 52,
   "id": "c7fc4a21",
   "metadata": {},
   "outputs": [],
   "source": [
    "raw_df['Высота потолков'] = pd.to_numeric(raw_df['Высота потолков'].str.replace('м', '').str.strip().str.replace(',', '.'))\n",
    "raw_df['Высота потолков'].fillna(raw_df['Высота потолков'].median(), inplace=True)"
   ]
  },
  {
   "cell_type": "code",
   "execution_count": 53,
   "id": "612105eb",
   "metadata": {},
   "outputs": [],
   "source": [
    "raw_df.dropna(subset=['price'], inplace=True)\n",
    "raw_df['Всего этажей'] = raw_df['Этаж'].apply(lambda x: x.replace('из', '').split()[1])\n",
    "raw_df['Этаж'] = raw_df['Этаж'].apply(lambda x: x.replace('из', '').split()[0])"
   ]
  },
  {
   "cell_type": "code",
   "execution_count": 54,
   "id": "e6c97712",
   "metadata": {},
   "outputs": [],
   "source": [
    "raw_df['Апартаменты'] = raw_df['Тип жилья'].apply(lambda x: 'апартамент' in x.lower())\n",
    "raw_df['Новостройка'] = raw_df['Тип жилья'].apply(lambda x: 'новостройка' in x.lower())\n",
    "raw_df.drop('Тип жилья', axis=1, inplace=True)"
   ]
  },
  {
   "cell_type": "code",
   "execution_count": 55,
   "id": "f3efc3ad",
   "metadata": {},
   "outputs": [],
   "source": [
    "raw_df['Вид из окон'].fillna('', inplace=True)\n",
    "raw_df['Окна во двор'] = raw_df['Вид из окон'].apply(lambda x: 'двор' in x.lower())\n",
    "raw_df['Окна на улицу'] = raw_df['Вид из окон'].apply(lambda x: 'улиц' in x.lower())\n",
    "raw_df.drop('Вид из окон', axis=1, inplace=True)"
   ]
  },
  {
   "cell_type": "code",
   "execution_count": 56,
   "id": "d9b85dc1",
   "metadata": {},
   "outputs": [],
   "source": []
  },
  {
   "cell_type": "code",
   "execution_count": 57,
   "id": "7a5cb712",
   "metadata": {},
   "outputs": [],
   "source": [
    "raw_df['district'] = raw_df['address'].apply(lambda x: x.split(',')[1])"
   ]
  },
  {
   "cell_type": "code",
   "execution_count": 58,
   "id": "6f2d976c",
   "metadata": {},
   "outputs": [],
   "source": [
    "def extract_room_number(x):\n",
    "    if 'свобод' in x.lower() or 'студия' in x.lower():\n",
    "        return 'студия'\n",
    "    else:\n",
    "        return x.split('-')[0]\n",
    "    \n",
    "raw_df['количество комнат'] = raw_df['title'].apply(lambda x: extract_room_number(x))\n",
    "raw_df.drop('title', axis=1, inplace=True)"
   ]
  },
  {
   "cell_type": "code",
   "execution_count": 59,
   "id": "12a32fc4",
   "metadata": {},
   "outputs": [],
   "source": [
    "raw_df['Санузел'].fillna(raw_df['Санузел'].value_counts().index[0], inplace=True)\n",
    "raw_df['Количество санузлов'] = raw_df['Санузел'].apply(lambda x: x.split()[0])\n",
    "raw_df['Совмещенный санузел'] = raw_df['Санузел'].apply(lambda x: 'совмещен' in x.lower())\n",
    "raw_df.drop(columns=['Санузел'], inplace=True)"
   ]
  },
  {
   "cell_type": "code",
   "execution_count": 60,
   "id": "779f759e",
   "metadata": {},
   "outputs": [],
   "source": [
    "raw_df['Парковка'].fillna('', inplace=True)\n",
    "raw_df['Парковка'] = raw_df['Парковка'].apply(lambda x: 'наземная' if 'открыт' in x.lower() or not x else x.lower())"
   ]
  },
  {
   "cell_type": "code",
   "execution_count": 61,
   "id": "59fadd07",
   "metadata": {},
   "outputs": [],
   "source": [
    "raw_df['Балкон/лоджия'].fillna('', inplace=True)\n",
    "raw_df['балкон'] = raw_df['Балкон/лоджия'].apply(lambda x: sum(map(lambda x: int(x) if x.isdigit() else 0, x.split())))\n",
    "raw_df.drop(columns=['Балкон/лоджия'], inplace=True)"
   ]
  },
  {
   "cell_type": "code",
   "execution_count": 62,
   "id": "6972b954",
   "metadata": {},
   "outputs": [],
   "source": [
    "raw_df.loc[raw_df['Построен'].isna(), 'Построен'] = raw_df['Год постройки'][raw_df['Построен'].isna()]\n",
    "raw_df['Построен'].ffill(inplace=True)\n",
    "raw_df.drop('Год постройки', axis=1, inplace=True)"
   ]
  },
  {
   "cell_type": "code",
   "execution_count": 63,
   "id": "9a406981",
   "metadata": {},
   "outputs": [],
   "source": [
    "def extract_time_to_undeground(x):\n",
    "    if not x:\n",
    "        return -1\n",
    "    time_to = int(x.split()[0])\n",
    "    if 'транспорт' in x:\n",
    "        time_to = time_to * 5\n",
    "    return time_to\n"
   ]
  },
  {
   "cell_type": "code",
   "execution_count": 64,
   "id": "d3fcf0ca",
   "metadata": {},
   "outputs": [],
   "source": [
    "def extract_living_square(x):\n",
    "    if not x: \n",
    "        return 0.0\n",
    "    value = float(x.split()[0].replace(',', '.'))\n",
    "    return value\n",
    "\n",
    "living_square_mask = raw_df['Жилая'].notna()\n",
    "raw_df['living_square_ratio'] = 0.0\n",
    "raw_df.loc[living_square_mask, 'living_square_ratio'] = (\n",
    "     pd.to_numeric(\n",
    "        raw_df['Жилая'][living_square_mask].apply(lambda x: extract_living_square(x))) / raw_df['Общая'][living_square_mask]\n",
    ")\n",
    "raw_df.loc[raw_df['living_square_ratio'] == 0.0, 'living_square_ratio'] = raw_df['living_square_ratio'].median()\n",
    "raw_df.drop('Жилая', axis=1, inplace=True)"
   ]
  },
  {
   "cell_type": "code",
   "execution_count": 65,
   "id": "125387bc",
   "metadata": {},
   "outputs": [],
   "source": [
    "today = dt.today()\n",
    "raw_df['placed_days_ago'] = raw_df['offer_dt'].apply(lambda x: (today - x).round(freq='D').days)"
   ]
  },
  {
   "cell_type": "code",
   "execution_count": 66,
   "id": "01081f21",
   "metadata": {},
   "outputs": [],
   "source": [
    "raw_df.drop('distance_to_mkad', axis=1, inplace=True)"
   ]
  },
  {
   "cell_type": "code",
   "execution_count": 67,
   "id": "69d87c42",
   "metadata": {},
   "outputs": [],
   "source": [
    "raw_df.drop(raw_df[raw_df['time_to_underground'].isna() == True].index, inplace=True)"
   ]
  },
  {
   "cell_type": "code",
   "execution_count": 68,
   "id": "d018f538",
   "metadata": {},
   "outputs": [],
   "source": [
    "raw_df.drop_duplicates(inplace=True)"
   ]
  },
  {
   "cell_type": "code",
   "execution_count": 71,
   "id": "3eb845b1",
   "metadata": {},
   "outputs": [
    {
     "data": {
      "text/plain": [
       "                 3120\n",
       "Косметический    2337\n",
       "Евроремонт       1015\n",
       "Без ремонта       989\n",
       "Дизайнерский      239\n",
       "Name: Ремонт, dtype: int64"
      ]
     },
     "execution_count": 71,
     "metadata": {},
     "output_type": "execute_result"
    }
   ],
   "source": []
  },
  {
   "cell_type": "code",
   "execution_count": 28,
   "id": "681c1a8e",
   "metadata": {},
   "outputs": [],
   "source": [
    "raw_df.to_csv('prepared_data.csv')"
   ]
  },
  {
   "cell_type": "code",
   "execution_count": 27,
   "id": "b981f72b",
   "metadata": {},
   "outputs": [],
   "source": []
  },
  {
   "cell_type": "code",
   "execution_count": 26,
   "id": "a5f698ed",
   "metadata": {},
   "outputs": [],
   "source": []
  },
  {
   "cell_type": "code",
   "execution_count": 37,
   "id": "460ef746",
   "metadata": {},
   "outputs": [],
   "source": [
    "raw_df.rename(columns={\"Общая\": \"general_sq\",\n",
    "               \"Этаж\": \"floor\",\n",
    "               \"Построен\": \"built\",\n",
    "               \"Высота потолков\": \"ceil\",\n",
    "              \"Всего этажей\": \"total_floors\",\n",
    "              \"Апартаменты\": \"apartments\",\n",
    "              \"Новостройка\": \"new_building\",\n",
    "              \"Окна во двор\": \"courtyard_view\",\n",
    "               \"Окна на улицу\": \"road_view\",\n",
    "              \"количество комнат\": \"rooms\",\n",
    "               \"Количество санузлов\": \"wc_amount\",\n",
    "               \"Совмещенный санузел\": \"joint_wc\",\n",
    "               \"балкон\": \"balcony\",\n",
    "                       'Парковка': 'parking',\n",
    "              }, inplace=True)"
   ]
  },
  {
   "cell_type": "code",
   "execution_count": 38,
   "id": "4500dfb7",
   "metadata": {},
   "outputs": [
    {
     "name": "stdout",
     "output_type": "stream",
     "text": [
      "<class 'pandas.core.frame.DataFrame'>\n",
      "Int64Index: 7741 entries, 0 to 9294\n",
      "Data columns (total 26 columns):\n",
      " #   Column               Non-Null Count  Dtype         \n",
      "---  ------               --------------  -----         \n",
      " 0   link                 7741 non-null   object        \n",
      " 1   price                7741 non-null   float64       \n",
      " 2   description_len      7741 non-null   float64       \n",
      " 3   general_sq           7741 non-null   float64       \n",
      " 4   floor                7741 non-null   int64         \n",
      " 5   built                7741 non-null   float64       \n",
      " 6   ceil                 7741 non-null   float64       \n",
      " 7   facing               7741 non-null   object        \n",
      " 8   parking              7741 non-null   object        \n",
      " 9   time_to_underground  7741 non-null   float64       \n",
      " 10  address              7741 non-null   object        \n",
      " 11  offer_dt             7741 non-null   datetime64[ns]\n",
      " 12  all_views            7741 non-null   float64       \n",
      " 13  today_views          7741 non-null   float64       \n",
      " 14  total_floors         7741 non-null   object        \n",
      " 15  apartments           7741 non-null   bool          \n",
      " 16  new_building         7741 non-null   bool          \n",
      " 17  courtyard_view       7741 non-null   bool          \n",
      " 18  road_view            7741 non-null   bool          \n",
      " 19  district             7741 non-null   object        \n",
      " 20  rooms                7741 non-null   object        \n",
      " 21  wc_amount            7741 non-null   object        \n",
      " 22  joint_wc             7741 non-null   bool          \n",
      " 23  balcony              7741 non-null   int64         \n",
      " 24  living_square_ratio  7741 non-null   float64       \n",
      " 25  placed_days_ago      7741 non-null   int64         \n",
      "dtypes: bool(5), datetime64[ns](1), float64(9), int64(3), object(8)\n",
      "memory usage: 1.3+ MB\n"
     ]
    }
   ],
   "source": [
    "raw_df.info()"
   ]
  },
  {
   "cell_type": "code",
   "execution_count": 60,
   "id": "ed4b600a",
   "metadata": {},
   "outputs": [
    {
     "data": {
      "text/html": [
       "<div>\n",
       "<style scoped>\n",
       "    .dataframe tbody tr th:only-of-type {\n",
       "        vertical-align: middle;\n",
       "    }\n",
       "\n",
       "    .dataframe tbody tr th {\n",
       "        vertical-align: top;\n",
       "    }\n",
       "\n",
       "    .dataframe thead th {\n",
       "        text-align: right;\n",
       "    }\n",
       "</style>\n",
       "<table border=\"1\" class=\"dataframe\">\n",
       "  <thead>\n",
       "    <tr style=\"text-align: right;\">\n",
       "      <th></th>\n",
       "      <th>price</th>\n",
       "      <th>description_len</th>\n",
       "      <th>general_sq</th>\n",
       "      <th>floor</th>\n",
       "      <th>built</th>\n",
       "      <th>ceil</th>\n",
       "      <th>time_to_underground</th>\n",
       "      <th>all_views</th>\n",
       "      <th>today_views</th>\n",
       "      <th>total_floors</th>\n",
       "      <th>wc_amount</th>\n",
       "      <th>balcony</th>\n",
       "      <th>living_square_ratio</th>\n",
       "      <th>placed_days_ago</th>\n",
       "    </tr>\n",
       "  </thead>\n",
       "  <tbody>\n",
       "    <tr>\n",
       "      <th>count</th>\n",
       "      <td>7.738000e+03</td>\n",
       "      <td>7738.000000</td>\n",
       "      <td>7738.000000</td>\n",
       "      <td>7738.000000</td>\n",
       "      <td>7738.000000</td>\n",
       "      <td>7738.000000</td>\n",
       "      <td>7738.000000</td>\n",
       "      <td>7738.000000</td>\n",
       "      <td>7738.000000</td>\n",
       "      <td>7738.000000</td>\n",
       "      <td>7738.000000</td>\n",
       "      <td>7738.000000</td>\n",
       "      <td>7738.000000</td>\n",
       "      <td>7738.000000</td>\n",
       "    </tr>\n",
       "    <tr>\n",
       "      <th>mean</th>\n",
       "      <td>7.758320e+06</td>\n",
       "      <td>845.024683</td>\n",
       "      <td>34.432903</td>\n",
       "      <td>6.976092</td>\n",
       "      <td>1990.923494</td>\n",
       "      <td>2.733886</td>\n",
       "      <td>27.704058</td>\n",
       "      <td>899.072499</td>\n",
       "      <td>13.964073</td>\n",
       "      <td>14.495735</td>\n",
       "      <td>1.013311</td>\n",
       "      <td>0.453089</td>\n",
       "      <td>0.526333</td>\n",
       "      <td>6.544973</td>\n",
       "    </tr>\n",
       "    <tr>\n",
       "      <th>std</th>\n",
       "      <td>1.351260e+06</td>\n",
       "      <td>621.833505</td>\n",
       "      <td>9.770197</td>\n",
       "      <td>5.588173</td>\n",
       "      <td>23.105914</td>\n",
       "      <td>0.188518</td>\n",
       "      <td>33.592138</td>\n",
       "      <td>2301.776326</td>\n",
       "      <td>30.091447</td>\n",
       "      <td>7.249165</td>\n",
       "      <td>0.114610</td>\n",
       "      <td>0.528553</td>\n",
       "      <td>0.116387</td>\n",
       "      <td>6.325484</td>\n",
       "    </tr>\n",
       "    <tr>\n",
       "      <th>min</th>\n",
       "      <td>2.280000e+06</td>\n",
       "      <td>24.000000</td>\n",
       "      <td>9.700000</td>\n",
       "      <td>1.000000</td>\n",
       "      <td>1856.000000</td>\n",
       "      <td>2.000000</td>\n",
       "      <td>1.000000</td>\n",
       "      <td>1.000000</td>\n",
       "      <td>0.000000</td>\n",
       "      <td>1.000000</td>\n",
       "      <td>1.000000</td>\n",
       "      <td>0.000000</td>\n",
       "      <td>0.205128</td>\n",
       "      <td>3.000000</td>\n",
       "    </tr>\n",
       "    <tr>\n",
       "      <th>25%</th>\n",
       "      <td>7.009882e+06</td>\n",
       "      <td>412.000000</td>\n",
       "      <td>28.547500</td>\n",
       "      <td>2.000000</td>\n",
       "      <td>1971.000000</td>\n",
       "      <td>2.650000</td>\n",
       "      <td>10.000000</td>\n",
       "      <td>102.000000</td>\n",
       "      <td>1.000000</td>\n",
       "      <td>9.000000</td>\n",
       "      <td>1.000000</td>\n",
       "      <td>0.000000</td>\n",
       "      <td>0.474748</td>\n",
       "      <td>3.000000</td>\n",
       "    </tr>\n",
       "    <tr>\n",
       "      <th>50%</th>\n",
       "      <td>8.190000e+06</td>\n",
       "      <td>661.000000</td>\n",
       "      <td>35.000000</td>\n",
       "      <td>5.000000</td>\n",
       "      <td>1988.000000</td>\n",
       "      <td>2.700000</td>\n",
       "      <td>15.000000</td>\n",
       "      <td>342.000000</td>\n",
       "      <td>4.000000</td>\n",
       "      <td>14.000000</td>\n",
       "      <td>1.000000</td>\n",
       "      <td>0.000000</td>\n",
       "      <td>0.500000</td>\n",
       "      <td>4.000000</td>\n",
       "    </tr>\n",
       "    <tr>\n",
       "      <th>75%</th>\n",
       "      <td>8.800000e+06</td>\n",
       "      <td>1106.000000</td>\n",
       "      <td>39.000000</td>\n",
       "      <td>10.000000</td>\n",
       "      <td>2015.000000</td>\n",
       "      <td>2.720000</td>\n",
       "      <td>30.000000</td>\n",
       "      <td>947.750000</td>\n",
       "      <td>15.000000</td>\n",
       "      <td>17.000000</td>\n",
       "      <td>1.000000</td>\n",
       "      <td>1.000000</td>\n",
       "      <td>0.590909</td>\n",
       "      <td>6.000000</td>\n",
       "    </tr>\n",
       "    <tr>\n",
       "      <th>max</th>\n",
       "      <td>9.400000e+06</td>\n",
       "      <td>3000.000000</td>\n",
       "      <td>130.000000</td>\n",
       "      <td>45.000000</td>\n",
       "      <td>2021.000000</td>\n",
       "      <td>5.400000</td>\n",
       "      <td>400.000000</td>\n",
       "      <td>95969.000000</td>\n",
       "      <td>1116.000000</td>\n",
       "      <td>54.000000</td>\n",
       "      <td>2.000000</td>\n",
       "      <td>4.000000</td>\n",
       "      <td>1.000000</td>\n",
       "      <td>37.000000</td>\n",
       "    </tr>\n",
       "  </tbody>\n",
       "</table>\n",
       "</div>"
      ],
      "text/plain": [
       "              price  description_len   general_sq        floor        built  \\\n",
       "count  7.738000e+03      7738.000000  7738.000000  7738.000000  7738.000000   \n",
       "mean   7.758320e+06       845.024683    34.432903     6.976092  1990.923494   \n",
       "std    1.351260e+06       621.833505     9.770197     5.588173    23.105914   \n",
       "min    2.280000e+06        24.000000     9.700000     1.000000  1856.000000   \n",
       "25%    7.009882e+06       412.000000    28.547500     2.000000  1971.000000   \n",
       "50%    8.190000e+06       661.000000    35.000000     5.000000  1988.000000   \n",
       "75%    8.800000e+06      1106.000000    39.000000    10.000000  2015.000000   \n",
       "max    9.400000e+06      3000.000000   130.000000    45.000000  2021.000000   \n",
       "\n",
       "              ceil  time_to_underground     all_views  today_views  \\\n",
       "count  7738.000000          7738.000000   7738.000000  7738.000000   \n",
       "mean      2.733886            27.704058    899.072499    13.964073   \n",
       "std       0.188518            33.592138   2301.776326    30.091447   \n",
       "min       2.000000             1.000000      1.000000     0.000000   \n",
       "25%       2.650000            10.000000    102.000000     1.000000   \n",
       "50%       2.700000            15.000000    342.000000     4.000000   \n",
       "75%       2.720000            30.000000    947.750000    15.000000   \n",
       "max       5.400000           400.000000  95969.000000  1116.000000   \n",
       "\n",
       "       total_floors    wc_amount      balcony  living_square_ratio  \\\n",
       "count   7738.000000  7738.000000  7738.000000          7738.000000   \n",
       "mean      14.495735     1.013311     0.453089             0.526333   \n",
       "std        7.249165     0.114610     0.528553             0.116387   \n",
       "min        1.000000     1.000000     0.000000             0.205128   \n",
       "25%        9.000000     1.000000     0.000000             0.474748   \n",
       "50%       14.000000     1.000000     0.000000             0.500000   \n",
       "75%       17.000000     1.000000     1.000000             0.590909   \n",
       "max       54.000000     2.000000     4.000000             1.000000   \n",
       "\n",
       "       placed_days_ago  \n",
       "count      7738.000000  \n",
       "mean          6.544973  \n",
       "std           6.325484  \n",
       "min           3.000000  \n",
       "25%           3.000000  \n",
       "50%           4.000000  \n",
       "75%           6.000000  \n",
       "max          37.000000  "
      ]
     },
     "execution_count": 60,
     "metadata": {},
     "output_type": "execute_result"
    }
   ],
   "source": [
    "raw_df.describe()"
   ]
  },
  {
   "cell_type": "code",
   "execution_count": 42,
   "id": "5d6527cb",
   "metadata": {},
   "outputs": [],
   "source": [
    "raw_df['floor'] = pd.to_numeric(raw_df['floor'])\n",
    "raw_df['total_floors'] = pd.to_numeric(raw_df['total_floors'])\n",
    "raw_df['wc_amount'] = pd.to_numeric(raw_df['wc_amount'])\n",
    "raw_df['balcony'] = pd.to_numeric(raw_df['balcony'])"
   ]
  },
  {
   "cell_type": "code",
   "execution_count": 47,
   "id": "18c9f891",
   "metadata": {},
   "outputs": [],
   "source": [
    "raw_df.loc[raw_df['ceil'] > 20.0, 'ceil'] = raw_df['ceil'][raw_df['ceil'] > 20.0] / 10"
   ]
  },
  {
   "cell_type": "code",
   "execution_count": 54,
   "id": "f45486b6",
   "metadata": {},
   "outputs": [],
   "source": [
    "raw_df.drop(raw_df[raw_df['ceil'] > 7.0].index, inplace=True)"
   ]
  },
  {
   "cell_type": "code",
   "execution_count": 59,
   "id": "37587af0",
   "metadata": {},
   "outputs": [],
   "source": [
    "raw_df.drop(raw_df[raw_df['general_sq'] == 2.0].index, inplace=True)"
   ]
  },
  {
   "cell_type": "code",
   "execution_count": null,
   "id": "95724c96",
   "metadata": {},
   "outputs": [],
   "source": [
    "# data preparing ends here"
   ]
  },
  {
   "cell_type": "code",
   "execution_count": 72,
   "id": "78352c68",
   "metadata": {},
   "outputs": [
    {
     "name": "stdout",
     "output_type": "stream",
     "text": [
      "Original shape: (9296, 39)\n",
      "Shape without duplicates: (9008, 39)\n",
      "Shape without nan prices: (8839, 39)\n",
      "<class 'pandas.core.frame.DataFrame'>\n",
      "Int64Index: 7697 entries, 0 to 9294\n",
      "Data columns (total 26 columns):\n",
      " #   Column               Non-Null Count  Dtype         \n",
      "---  ------               --------------  -----         \n",
      " 0   link                 7697 non-null   object        \n",
      " 1   price                7697 non-null   float64       \n",
      " 2   description_len      7697 non-null   float64       \n",
      " 3   general_sq           7697 non-null   float64       \n",
      " 4   floor                7697 non-null   int64         \n",
      " 5   built                7697 non-null   float64       \n",
      " 6   ceil                 7697 non-null   float64       \n",
      " 7   Ремонт               4579 non-null   object        \n",
      " 8   parking              7697 non-null   object        \n",
      " 9   time_to_underground  7697 non-null   float64       \n",
      " 10  address              7697 non-null   object        \n",
      " 11  offer_dt             7697 non-null   datetime64[ns]\n",
      " 12  all_views            7697 non-null   float64       \n",
      " 13  today_views          7697 non-null   float64       \n",
      " 14  total_floors         7697 non-null   int64         \n",
      " 15  apartments           7697 non-null   bool          \n",
      " 16  new_building         7697 non-null   bool          \n",
      " 17  courtyard_view       7697 non-null   bool          \n",
      " 18  road_view            7697 non-null   bool          \n",
      " 19  district             7697 non-null   object        \n",
      " 20  rooms                7697 non-null   object        \n",
      " 21  wc_amount            7697 non-null   int64         \n",
      " 22  joint_wc             7697 non-null   bool          \n",
      " 23  balcony              7697 non-null   int64         \n",
      " 24  living_square_ratio  7697 non-null   float64       \n",
      " 25  placed_days_ago      7697 non-null   int64         \n",
      "dtypes: bool(5), datetime64[ns](1), float64(9), int64(5), object(6)\n",
      "memory usage: 1.3+ MB\n",
      "None\n",
      "\n",
      "              price  description_len   general_sq        floor        built  \\\n",
      "count  7.697000e+03      7697.000000  7697.000000  7697.000000  7697.000000   \n",
      "mean   7.756039e+06       845.804469    34.418149     6.959205  1990.929583   \n",
      "std    1.354416e+06       622.283774     9.768465     5.579202    23.108760   \n",
      "min    2.280000e+06        24.000000     9.700000     1.000000  1856.000000   \n",
      "25%    7.000000e+06       412.000000    28.530000     2.000000  1971.000000   \n",
      "50%    8.189120e+06       661.000000    35.000000     5.000000  1988.000000   \n",
      "75%    8.800000e+06      1106.000000    39.000000    10.000000  2015.000000   \n",
      "max    9.400000e+06      3000.000000   130.000000    45.000000  2021.000000   \n",
      "\n",
      "              ceil  time_to_underground     all_views  today_views  \\\n",
      "count  7697.000000          7697.000000   7697.000000  7697.000000   \n",
      "mean      2.733898            27.728985    900.573210    13.954918   \n",
      "std       0.188921            33.631141   2307.445793    30.145432   \n",
      "min       2.000000             1.000000      1.000000     0.000000   \n",
      "25%       2.650000            10.000000    102.000000     1.000000   \n",
      "50%       2.700000            15.000000    342.000000     4.000000   \n",
      "75%       2.720000            30.000000    948.000000    15.000000   \n",
      "max       5.400000           400.000000  95969.000000  1116.000000   \n",
      "\n",
      "       total_floors    wc_amount      balcony  living_square_ratio  \\\n",
      "count   7697.000000  7697.000000  7697.000000          7697.000000   \n",
      "mean      14.463038     1.013252     0.452124             0.526446   \n",
      "std        7.219708     0.114359     0.528134             0.116343   \n",
      "min        1.000000     1.000000     0.000000             0.205128   \n",
      "25%        9.000000     1.000000     0.000000             0.475000   \n",
      "50%       14.000000     1.000000     0.000000             0.500000   \n",
      "75%       17.000000     1.000000     1.000000             0.590909   \n",
      "max       54.000000     2.000000     4.000000             1.000000   \n",
      "\n",
      "       placed_days_ago  \n",
      "count      7697.000000  \n",
      "mean          9.242562  \n",
      "std           6.354461  \n",
      "min           5.000000  \n",
      "25%           6.000000  \n",
      "50%           7.000000  \n",
      "75%           9.000000  \n",
      "max          40.000000  \n",
      "\n"
     ]
    }
   ],
   "source": []
  },
  {
   "cell_type": "code",
   "execution_count": null,
   "id": "d5037891",
   "metadata": {},
   "outputs": [],
   "source": [
    "import matplotlib.pyplot as plt"
   ]
  },
  {
   "cell_type": "code",
   "execution_count": 70,
   "id": "9a025625",
   "metadata": {},
   "outputs": [
    {
     "data": {
      "text/html": [
       "<style type=\"text/css\">\n",
       "#T_271b0_row0_col0, #T_271b0_row1_col1, #T_271b0_row2_col2, #T_271b0_row3_col3, #T_271b0_row4_col4, #T_271b0_row5_col5, #T_271b0_row6_col6, #T_271b0_row7_col7, #T_271b0_row8_col8, #T_271b0_row9_col9, #T_271b0_row10_col10, #T_271b0_row11_col11, #T_271b0_row12_col12, #T_271b0_row13_col13, #T_271b0_row14_col14, #T_271b0_row15_col15, #T_271b0_row16_col16, #T_271b0_row17_col17, #T_271b0_row18_col18 {\n",
       "  background-color: #023858;\n",
       "  color: #f1f1f1;\n",
       "}\n",
       "#T_271b0_row0_col1, #T_271b0_row0_col4, #T_271b0_row2_col5, #T_271b0_row8_col3, #T_271b0_row8_col14, #T_271b0_row11_col16, #T_271b0_row12_col4, #T_271b0_row16_col5 {\n",
       "  background-color: #f8f1f8;\n",
       "  color: #000000;\n",
       "}\n",
       "#T_271b0_row0_col2 {\n",
       "  background-color: #2a88bc;\n",
       "  color: #f1f1f1;\n",
       "}\n",
       "#T_271b0_row0_col3, #T_271b0_row12_col2, #T_271b0_row14_col1, #T_271b0_row18_col10 {\n",
       "  background-color: #d2d3e7;\n",
       "  color: #000000;\n",
       "}\n",
       "#T_271b0_row0_col5, #T_271b0_row0_col8, #T_271b0_row0_col10, #T_271b0_row1_col18, #T_271b0_row2_col15, #T_271b0_row10_col0, #T_271b0_row10_col2, #T_271b0_row10_col6, #T_271b0_row10_col16, #T_271b0_row11_col7, #T_271b0_row11_col17, #T_271b0_row12_col1, #T_271b0_row12_col13, #T_271b0_row13_col12, #T_271b0_row15_col14, #T_271b0_row17_col3, #T_271b0_row17_col4, #T_271b0_row17_col9, #T_271b0_row17_col11 {\n",
       "  background-color: #fff7fb;\n",
       "  color: #000000;\n",
       "}\n",
       "#T_271b0_row0_col6, #T_271b0_row9_col6, #T_271b0_row9_col14 {\n",
       "  background-color: #fdf5fa;\n",
       "  color: #000000;\n",
       "}\n",
       "#T_271b0_row0_col7, #T_271b0_row3_col14, #T_271b0_row15_col2 {\n",
       "  background-color: #fbf4f9;\n",
       "  color: #000000;\n",
       "}\n",
       "#T_271b0_row0_col9, #T_271b0_row17_col12 {\n",
       "  background-color: #b9c6e0;\n",
       "  color: #000000;\n",
       "}\n",
       "#T_271b0_row0_col11, #T_271b0_row0_col18, #T_271b0_row5_col12, #T_271b0_row11_col13, #T_271b0_row12_col10, #T_271b0_row13_col4 {\n",
       "  background-color: #dad9ea;\n",
       "  color: #000000;\n",
       "}\n",
       "#T_271b0_row0_col12, #T_271b0_row1_col9, #T_271b0_row3_col4, #T_271b0_row15_col10 {\n",
       "  background-color: #b7c5df;\n",
       "  color: #000000;\n",
       "}\n",
       "#T_271b0_row0_col13, #T_271b0_row2_col12, #T_271b0_row14_col17, #T_271b0_row17_col13, #T_271b0_row18_col7 {\n",
       "  background-color: #cccfe5;\n",
       "  color: #000000;\n",
       "}\n",
       "#T_271b0_row0_col14, #T_271b0_row2_col7, #T_271b0_row5_col14, #T_271b0_row9_col16, #T_271b0_row17_col6 {\n",
       "  background-color: #efe9f3;\n",
       "  color: #000000;\n",
       "}\n",
       "#T_271b0_row0_col15 {\n",
       "  background-color: #f4eef6;\n",
       "  color: #000000;\n",
       "}\n",
       "#T_271b0_row0_col16 {\n",
       "  background-color: #afc1dd;\n",
       "  color: #000000;\n",
       "}\n",
       "#T_271b0_row0_col17, #T_271b0_row2_col8, #T_271b0_row2_col9, #T_271b0_row6_col0, #T_271b0_row6_col15, #T_271b0_row7_col0, #T_271b0_row8_col2, #T_271b0_row10_col18, #T_271b0_row12_col15 {\n",
       "  background-color: #e7e3f0;\n",
       "  color: #000000;\n",
       "}\n",
       "#T_271b0_row1_col0, #T_271b0_row1_col8, #T_271b0_row2_col17, #T_271b0_row6_col5, #T_271b0_row6_col14, #T_271b0_row6_col18, #T_271b0_row14_col7, #T_271b0_row18_col9 {\n",
       "  background-color: #e8e4f0;\n",
       "  color: #000000;\n",
       "}\n",
       "#T_271b0_row1_col2, #T_271b0_row1_col13, #T_271b0_row2_col13, #T_271b0_row2_col14, #T_271b0_row5_col4, #T_271b0_row5_col13, #T_271b0_row16_col13 {\n",
       "  background-color: #c9cee4;\n",
       "  color: #000000;\n",
       "}\n",
       "#T_271b0_row1_col3, #T_271b0_row1_col5, #T_271b0_row2_col1, #T_271b0_row8_col5, #T_271b0_row13_col11 {\n",
       "  background-color: #d7d6e9;\n",
       "  color: #000000;\n",
       "}\n",
       "#T_271b0_row1_col4, #T_271b0_row10_col7, #T_271b0_row13_col17, #T_271b0_row18_col13 {\n",
       "  background-color: #c8cde4;\n",
       "  color: #000000;\n",
       "}\n",
       "#T_271b0_row1_col6, #T_271b0_row18_col2 {\n",
       "  background-color: #ced0e6;\n",
       "  color: #000000;\n",
       "}\n",
       "#T_271b0_row1_col7, #T_271b0_row18_col14 {\n",
       "  background-color: #f5eff6;\n",
       "  color: #000000;\n",
       "}\n",
       "#T_271b0_row1_col10, #T_271b0_row14_col11 {\n",
       "  background-color: #bdc8e1;\n",
       "  color: #000000;\n",
       "}\n",
       "#T_271b0_row1_col11 {\n",
       "  background-color: #4295c3;\n",
       "  color: #f1f1f1;\n",
       "}\n",
       "#T_271b0_row1_col12, #T_271b0_row1_col16, #T_271b0_row9_col8, #T_271b0_row9_col18, #T_271b0_row16_col14 {\n",
       "  background-color: #f1ebf5;\n",
       "  color: #000000;\n",
       "}\n",
       "#T_271b0_row1_col14, #T_271b0_row3_col5, #T_271b0_row6_col10, #T_271b0_row9_col5, #T_271b0_row15_col0, #T_271b0_row17_col15 {\n",
       "  background-color: #ebe6f2;\n",
       "  color: #000000;\n",
       "}\n",
       "#T_271b0_row1_col15, #T_271b0_row4_col3, #T_271b0_row16_col12 {\n",
       "  background-color: #b8c6e0;\n",
       "  color: #000000;\n",
       "}\n",
       "#T_271b0_row1_col17, #T_271b0_row7_col5, #T_271b0_row7_col15, #T_271b0_row13_col7, #T_271b0_row17_col16 {\n",
       "  background-color: #e3e0ee;\n",
       "  color: #000000;\n",
       "}\n",
       "#T_271b0_row2_col0 {\n",
       "  background-color: #2484ba;\n",
       "  color: #f1f1f1;\n",
       "}\n",
       "#T_271b0_row2_col3, #T_271b0_row5_col18, #T_271b0_row6_col7, #T_271b0_row7_col9, #T_271b0_row8_col11, #T_271b0_row12_col5, #T_271b0_row15_col7, #T_271b0_row17_col2, #T_271b0_row18_col4 {\n",
       "  background-color: #f0eaf4;\n",
       "  color: #000000;\n",
       "}\n",
       "#T_271b0_row2_col4, #T_271b0_row4_col12, #T_271b0_row5_col7 {\n",
       "  background-color: #e5e1ef;\n",
       "  color: #000000;\n",
       "}\n",
       "#T_271b0_row2_col6, #T_271b0_row8_col7, #T_271b0_row10_col17 {\n",
       "  background-color: #97b7d7;\n",
       "  color: #000000;\n",
       "}\n",
       "#T_271b0_row2_col10 {\n",
       "  background-color: #faf2f8;\n",
       "  color: #000000;\n",
       "}\n",
       "#T_271b0_row2_col11, #T_271b0_row17_col7 {\n",
       "  background-color: #cdd0e5;\n",
       "  color: #000000;\n",
       "}\n",
       "#T_271b0_row2_col16 {\n",
       "  background-color: #8cb3d5;\n",
       "  color: #000000;\n",
       "}\n",
       "#T_271b0_row2_col18, #T_271b0_row5_col9, #T_271b0_row6_col12, #T_271b0_row7_col16, #T_271b0_row9_col10, #T_271b0_row10_col11, #T_271b0_row10_col12, #T_271b0_row13_col1, #T_271b0_row13_col18, #T_271b0_row14_col5, #T_271b0_row15_col8 {\n",
       "  background-color: #dcdaeb;\n",
       "  color: #000000;\n",
       "}\n",
       "#T_271b0_row3_col0, #T_271b0_row17_col8 {\n",
       "  background-color: #b3c3de;\n",
       "  color: #000000;\n",
       "}\n",
       "#T_271b0_row3_col1, #T_271b0_row13_col2, #T_271b0_row17_col18 {\n",
       "  background-color: #d1d2e6;\n",
       "  color: #000000;\n",
       "}\n",
       "#T_271b0_row3_col2, #T_271b0_row11_col10, #T_271b0_row12_col7, #T_271b0_row15_col12, #T_271b0_row15_col17 {\n",
       "  background-color: #dedcec;\n",
       "  color: #000000;\n",
       "}\n",
       "#T_271b0_row3_col6, #T_271b0_row11_col12, #T_271b0_row12_col6, #T_271b0_row16_col15 {\n",
       "  background-color: #f3edf5;\n",
       "  color: #000000;\n",
       "}\n",
       "#T_271b0_row3_col7, #T_271b0_row7_col14, #T_271b0_row11_col8, #T_271b0_row16_col1 {\n",
       "  background-color: #f7f0f7;\n",
       "  color: #000000;\n",
       "}\n",
       "#T_271b0_row3_col8, #T_271b0_row3_col17, #T_271b0_row3_col18, #T_271b0_row5_col2, #T_271b0_row5_col6, #T_271b0_row7_col11, #T_271b0_row9_col12, #T_271b0_row16_col7 {\n",
       "  background-color: #eae6f1;\n",
       "  color: #000000;\n",
       "}\n",
       "#T_271b0_row3_col9 {\n",
       "  background-color: #3b92c1;\n",
       "  color: #f1f1f1;\n",
       "}\n",
       "#T_271b0_row3_col10, #T_271b0_row8_col16, #T_271b0_row11_col0 {\n",
       "  background-color: #dbdaeb;\n",
       "  color: #000000;\n",
       "}\n",
       "#T_271b0_row3_col11, #T_271b0_row4_col9 {\n",
       "  background-color: #8bb2d4;\n",
       "  color: #000000;\n",
       "}\n",
       "#T_271b0_row3_col12 {\n",
       "  background-color: #dfddec;\n",
       "  color: #000000;\n",
       "}\n",
       "#T_271b0_row3_col13, #T_271b0_row14_col10 {\n",
       "  background-color: #c6cce3;\n",
       "  color: #000000;\n",
       "}\n",
       "#T_271b0_row3_col15 {\n",
       "  background-color: #c0c9e2;\n",
       "  color: #000000;\n",
       "}\n",
       "#T_271b0_row3_col16, #T_271b0_row4_col2, #T_271b0_row6_col17, #T_271b0_row11_col5, #T_271b0_row13_col16, #T_271b0_row15_col5, #T_271b0_row18_col8 {\n",
       "  background-color: #d4d4e8;\n",
       "  color: #000000;\n",
       "}\n",
       "#T_271b0_row4_col0, #T_271b0_row9_col2, #T_271b0_row14_col15 {\n",
       "  background-color: #e4e1ef;\n",
       "  color: #000000;\n",
       "}\n",
       "#T_271b0_row4_col1, #T_271b0_row4_col13, #T_271b0_row14_col0, #T_271b0_row14_col13 {\n",
       "  background-color: #c1cae2;\n",
       "  color: #000000;\n",
       "}\n",
       "#T_271b0_row4_col5, #T_271b0_row7_col13, #T_271b0_row11_col4, #T_271b0_row12_col8, #T_271b0_row13_col0, #T_271b0_row16_col18 {\n",
       "  background-color: #cacee5;\n",
       "  color: #000000;\n",
       "}\n",
       "#T_271b0_row4_col6, #T_271b0_row13_col9, #T_271b0_row14_col6, #T_271b0_row14_col8, #T_271b0_row16_col8 {\n",
       "  background-color: #d8d7e9;\n",
       "  color: #000000;\n",
       "}\n",
       "#T_271b0_row4_col7, #T_271b0_row4_col14, #T_271b0_row6_col3, #T_271b0_row8_col1, #T_271b0_row10_col3, #T_271b0_row10_col14, #T_271b0_row15_col16 {\n",
       "  background-color: #f2ecf5;\n",
       "  color: #000000;\n",
       "}\n",
       "#T_271b0_row4_col8, #T_271b0_row8_col18, #T_271b0_row13_col5, #T_271b0_row16_col3 {\n",
       "  background-color: #e1dfed;\n",
       "  color: #000000;\n",
       "}\n",
       "#T_271b0_row4_col10, #T_271b0_row12_col17, #T_271b0_row18_col17 {\n",
       "  background-color: #b5c4df;\n",
       "  color: #000000;\n",
       "}\n",
       "#T_271b0_row4_col11, #T_271b0_row7_col17 {\n",
       "  background-color: #abbfdc;\n",
       "  color: #000000;\n",
       "}\n",
       "#T_271b0_row4_col15, #T_271b0_row5_col15, #T_271b0_row7_col12, #T_271b0_row7_col18, #T_271b0_row12_col16 {\n",
       "  background-color: #c4cbe3;\n",
       "  color: #000000;\n",
       "}\n",
       "#T_271b0_row4_col16 {\n",
       "  background-color: #d9d8ea;\n",
       "  color: #000000;\n",
       "}\n",
       "#T_271b0_row4_col17, #T_271b0_row5_col3 {\n",
       "  background-color: #ece7f2;\n",
       "  color: #000000;\n",
       "}\n",
       "#T_271b0_row4_col18, #T_271b0_row14_col3 {\n",
       "  background-color: #ede8f3;\n",
       "  color: #000000;\n",
       "}\n",
       "#T_271b0_row5_col0, #T_271b0_row17_col5 {\n",
       "  background-color: #ede7f2;\n",
       "  color: #000000;\n",
       "}\n",
       "#T_271b0_row5_col1, #T_271b0_row6_col13, #T_271b0_row15_col3 {\n",
       "  background-color: #d2d2e7;\n",
       "  color: #000000;\n",
       "}\n",
       "#T_271b0_row5_col8, #T_271b0_row8_col12, #T_271b0_row9_col1, #T_271b0_row15_col1, #T_271b0_row18_col0 {\n",
       "  background-color: #c2cbe2;\n",
       "  color: #000000;\n",
       "}\n",
       "#T_271b0_row5_col10 {\n",
       "  background-color: #84b0d3;\n",
       "  color: #f1f1f1;\n",
       "}\n",
       "#T_271b0_row5_col11, #T_271b0_row12_col0 {\n",
       "  background-color: #b4c4df;\n",
       "  color: #000000;\n",
       "}\n",
       "#T_271b0_row5_col16, #T_271b0_row15_col18, #T_271b0_row16_col11, #T_271b0_row18_col3 {\n",
       "  background-color: #eee9f3;\n",
       "  color: #000000;\n",
       "}\n",
       "#T_271b0_row5_col17, #T_271b0_row10_col4, #T_271b0_row14_col16, #T_271b0_row15_col4, #T_271b0_row15_col13 {\n",
       "  background-color: #d3d4e7;\n",
       "  color: #000000;\n",
       "}\n",
       "#T_271b0_row6_col1, #T_271b0_row6_col11, #T_271b0_row10_col15, #T_271b0_row16_col6 {\n",
       "  background-color: #c5cce3;\n",
       "  color: #000000;\n",
       "}\n",
       "#T_271b0_row6_col2 {\n",
       "  background-color: #80aed2;\n",
       "  color: #f1f1f1;\n",
       "}\n",
       "#T_271b0_row6_col4, #T_271b0_row10_col1, #T_271b0_row12_col18, #T_271b0_row14_col12 {\n",
       "  background-color: #d5d5e8;\n",
       "  color: #000000;\n",
       "}\n",
       "#T_271b0_row6_col8, #T_271b0_row13_col3, #T_271b0_row14_col9 {\n",
       "  background-color: #e0dded;\n",
       "  color: #000000;\n",
       "}\n",
       "#T_271b0_row6_col9, #T_271b0_row7_col1, #T_271b0_row7_col4, #T_271b0_row7_col6, #T_271b0_row8_col4, #T_271b0_row8_col6, #T_271b0_row12_col9, #T_271b0_row12_col11 {\n",
       "  background-color: #f1ebf4;\n",
       "  color: #000000;\n",
       "}\n",
       "#T_271b0_row6_col16, #T_271b0_row10_col8 {\n",
       "  background-color: #b1c2de;\n",
       "  color: #000000;\n",
       "}\n",
       "#T_271b0_row7_col2, #T_271b0_row13_col15 {\n",
       "  background-color: #dddbec;\n",
       "  color: #000000;\n",
       "}\n",
       "#T_271b0_row7_col3, #T_271b0_row9_col17, #T_271b0_row16_col10, #T_271b0_row17_col14 {\n",
       "  background-color: #f6eff7;\n",
       "  color: #000000;\n",
       "}\n",
       "#T_271b0_row7_col8 {\n",
       "  background-color: #81aed2;\n",
       "  color: #f1f1f1;\n",
       "}\n",
       "#T_271b0_row7_col10, #T_271b0_row8_col17 {\n",
       "  background-color: #a8bedc;\n",
       "  color: #000000;\n",
       "}\n",
       "#T_271b0_row8_col0 {\n",
       "  background-color: #f9f2f8;\n",
       "  color: #000000;\n",
       "}\n",
       "#T_271b0_row8_col9, #T_271b0_row12_col3, #T_271b0_row15_col6, #T_271b0_row18_col5 {\n",
       "  background-color: #f4edf6;\n",
       "  color: #000000;\n",
       "}\n",
       "#T_271b0_row8_col10 {\n",
       "  background-color: #a9bfdc;\n",
       "  color: #000000;\n",
       "}\n",
       "#T_271b0_row8_col13, #T_271b0_row9_col13 {\n",
       "  background-color: #d0d1e6;\n",
       "  color: #000000;\n",
       "}\n",
       "#T_271b0_row8_col15, #T_271b0_row14_col4, #T_271b0_row14_col18 {\n",
       "  background-color: #e0deed;\n",
       "  color: #000000;\n",
       "}\n",
       "#T_271b0_row9_col0, #T_271b0_row11_col3 {\n",
       "  background-color: #acc0dd;\n",
       "  color: #000000;\n",
       "}\n",
       "#T_271b0_row9_col3 {\n",
       "  background-color: #4a98c5;\n",
       "  color: #f1f1f1;\n",
       "}\n",
       "#T_271b0_row9_col4 {\n",
       "  background-color: #9cb9d9;\n",
       "  color: #000000;\n",
       "}\n",
       "#T_271b0_row9_col7 {\n",
       "  background-color: #fcf4fa;\n",
       "  color: #000000;\n",
       "}\n",
       "#T_271b0_row9_col11 {\n",
       "  background-color: #509ac6;\n",
       "  color: #f1f1f1;\n",
       "}\n",
       "#T_271b0_row9_col15, #T_271b0_row13_col10 {\n",
       "  background-color: #bcc7e1;\n",
       "  color: #000000;\n",
       "}\n",
       "#T_271b0_row10_col5, #T_271b0_row11_col15 {\n",
       "  background-color: #a4bcda;\n",
       "  color: #000000;\n",
       "}\n",
       "#T_271b0_row10_col9, #T_271b0_row16_col4, #T_271b0_row18_col15 {\n",
       "  background-color: #e6e2ef;\n",
       "  color: #000000;\n",
       "}\n",
       "#T_271b0_row10_col13, #T_271b0_row18_col12, #T_271b0_row18_col16 {\n",
       "  background-color: #bfc9e1;\n",
       "  color: #000000;\n",
       "}\n",
       "#T_271b0_row11_col1 {\n",
       "  background-color: #5a9ec9;\n",
       "  color: #f1f1f1;\n",
       "}\n",
       "#T_271b0_row11_col2, #T_271b0_row13_col8, #T_271b0_row16_col17 {\n",
       "  background-color: #d6d6e9;\n",
       "  color: #000000;\n",
       "}\n",
       "#T_271b0_row11_col6 {\n",
       "  background-color: #e2dfee;\n",
       "  color: #000000;\n",
       "}\n",
       "#T_271b0_row11_col9 {\n",
       "  background-color: #5ea0ca;\n",
       "  color: #f1f1f1;\n",
       "}\n",
       "#T_271b0_row11_col14, #T_271b0_row13_col14, #T_271b0_row16_col9, #T_271b0_row18_col6, #T_271b0_row18_col11 {\n",
       "  background-color: #eee8f3;\n",
       "  color: #000000;\n",
       "}\n",
       "#T_271b0_row11_col18, #T_271b0_row18_col1 {\n",
       "  background-color: #fef6fb;\n",
       "  color: #000000;\n",
       "}\n",
       "#T_271b0_row12_col14 {\n",
       "  background-color: #fbf3f9;\n",
       "  color: #000000;\n",
       "}\n",
       "#T_271b0_row13_col6, #T_271b0_row17_col0 {\n",
       "  background-color: #e9e5f1;\n",
       "  color: #000000;\n",
       "}\n",
       "#T_271b0_row14_col2 {\n",
       "  background-color: #9ab8d8;\n",
       "  color: #000000;\n",
       "}\n",
       "#T_271b0_row15_col9 {\n",
       "  background-color: #bbc7e0;\n",
       "  color: #000000;\n",
       "}\n",
       "#T_271b0_row15_col11 {\n",
       "  background-color: #93b5d6;\n",
       "  color: #000000;\n",
       "}\n",
       "#T_271b0_row16_col0 {\n",
       "  background-color: #a1bbda;\n",
       "  color: #000000;\n",
       "}\n",
       "#T_271b0_row16_col2 {\n",
       "  background-color: #88b1d4;\n",
       "  color: #000000;\n",
       "}\n",
       "#T_271b0_row17_col1 {\n",
       "  background-color: #f5eef6;\n",
       "  color: #000000;\n",
       "}\n",
       "#T_271b0_row17_col10 {\n",
       "  background-color: #99b8d8;\n",
       "  color: #000000;\n",
       "}\n",
       "</style>\n",
       "<table id=\"T_271b0_\">\n",
       "  <thead>\n",
       "    <tr>\n",
       "      <th class=\"blank level0\" >&nbsp;</th>\n",
       "      <th class=\"col_heading level0 col0\" >price</th>\n",
       "      <th class=\"col_heading level0 col1\" >description_len</th>\n",
       "      <th class=\"col_heading level0 col2\" >general_sq</th>\n",
       "      <th class=\"col_heading level0 col3\" >floor</th>\n",
       "      <th class=\"col_heading level0 col4\" >built</th>\n",
       "      <th class=\"col_heading level0 col5\" >ceil</th>\n",
       "      <th class=\"col_heading level0 col6\" >time_to_underground</th>\n",
       "      <th class=\"col_heading level0 col7\" >all_views</th>\n",
       "      <th class=\"col_heading level0 col8\" >today_views</th>\n",
       "      <th class=\"col_heading level0 col9\" >total_floors</th>\n",
       "      <th class=\"col_heading level0 col10\" >apartments</th>\n",
       "      <th class=\"col_heading level0 col11\" >new_building</th>\n",
       "      <th class=\"col_heading level0 col12\" >courtyard_view</th>\n",
       "      <th class=\"col_heading level0 col13\" >road_view</th>\n",
       "      <th class=\"col_heading level0 col14\" >wc_amount</th>\n",
       "      <th class=\"col_heading level0 col15\" >joint_wc</th>\n",
       "      <th class=\"col_heading level0 col16\" >balcony</th>\n",
       "      <th class=\"col_heading level0 col17\" >living_square_ratio</th>\n",
       "      <th class=\"col_heading level0 col18\" >placed_days_ago</th>\n",
       "    </tr>\n",
       "  </thead>\n",
       "  <tbody>\n",
       "    <tr>\n",
       "      <th id=\"T_271b0_level0_row0\" class=\"row_heading level0 row0\" >price</th>\n",
       "      <td id=\"T_271b0_row0_col0\" class=\"data row0 col0\" >1.000000</td>\n",
       "      <td id=\"T_271b0_row0_col1\" class=\"data row0 col1\" >-0.152461</td>\n",
       "      <td id=\"T_271b0_row0_col2\" class=\"data row0 col2\" >0.554786</td>\n",
       "      <td id=\"T_271b0_row0_col3\" class=\"data row0 col3\" >0.110728</td>\n",
       "      <td id=\"T_271b0_row0_col4\" class=\"data row0 col4\" >-0.124372</td>\n",
       "      <td id=\"T_271b0_row0_col5\" class=\"data row0 col5\" >-0.175832</td>\n",
       "      <td id=\"T_271b0_row0_col6\" class=\"data row0 col6\" >-0.145846</td>\n",
       "      <td id=\"T_271b0_row0_col7\" class=\"data row0 col7\" >-0.139285</td>\n",
       "      <td id=\"T_271b0_row0_col8\" class=\"data row0 col8\" >-0.290477</td>\n",
       "      <td id=\"T_271b0_row0_col9\" class=\"data row0 col9\" >0.134315</td>\n",
       "      <td id=\"T_271b0_row0_col10\" class=\"data row0 col10\" >-0.343296</td>\n",
       "      <td id=\"T_271b0_row0_col11\" class=\"data row0 col11\" >-0.074122</td>\n",
       "      <td id=\"T_271b0_row0_col12\" class=\"data row0 col12\" >0.105454</td>\n",
       "      <td id=\"T_271b0_row0_col13\" class=\"data row0 col13\" >0.018495</td>\n",
       "      <td id=\"T_271b0_row0_col14\" class=\"data row0 col14\" >0.055396</td>\n",
       "      <td id=\"T_271b0_row0_col15\" class=\"data row0 col15\" >-0.169581</td>\n",
       "      <td id=\"T_271b0_row0_col16\" class=\"data row0 col16\" >0.179034</td>\n",
       "      <td id=\"T_271b0_row0_col17\" class=\"data row0 col17\" >-0.154432</td>\n",
       "      <td id=\"T_271b0_row0_col18\" class=\"data row0 col18\" >0.045961</td>\n",
       "    </tr>\n",
       "    <tr>\n",
       "      <th id=\"T_271b0_level0_row1\" class=\"row_heading level0 row1\" >description_len</th>\n",
       "      <td id=\"T_271b0_row1_col0\" class=\"data row1 col0\" >-0.152461</td>\n",
       "      <td id=\"T_271b0_row1_col1\" class=\"data row1 col1\" >1.000000</td>\n",
       "      <td id=\"T_271b0_row1_col2\" class=\"data row1 col2\" >0.056754</td>\n",
       "      <td id=\"T_271b0_row1_col3\" class=\"data row1 col3\" >0.086821</td>\n",
       "      <td id=\"T_271b0_row1_col4\" class=\"data row1 col4\" >0.144301</td>\n",
       "      <td id=\"T_271b0_row1_col5\" class=\"data row1 col5\" >0.085305</td>\n",
       "      <td id=\"T_271b0_row1_col6\" class=\"data row1 col6\" >0.132119</td>\n",
       "      <td id=\"T_271b0_row1_col7\" class=\"data row1 col7\" >-0.095970</td>\n",
       "      <td id=\"T_271b0_row1_col8\" class=\"data row1 col8\" >-0.107372</td>\n",
       "      <td id=\"T_271b0_row1_col9\" class=\"data row1 col9\" >0.141578</td>\n",
       "      <td id=\"T_271b0_row1_col10\" class=\"data row1 col10\" >0.067662</td>\n",
       "      <td id=\"T_271b0_row1_col11\" class=\"data row1 col11\" >0.459338</td>\n",
       "      <td id=\"T_271b0_row1_col12\" class=\"data row1 col12\" >-0.211263</td>\n",
       "      <td id=\"T_271b0_row1_col13\" class=\"data row1 col13\" >0.028657</td>\n",
       "      <td id=\"T_271b0_row1_col14\" class=\"data row1 col14\" >0.078094</td>\n",
       "      <td id=\"T_271b0_row1_col15\" class=\"data row1 col15\" >0.142201</td>\n",
       "      <td id=\"T_271b0_row1_col16\" class=\"data row1 col16\" >-0.148496</td>\n",
       "      <td id=\"T_271b0_row1_col17\" class=\"data row1 col17\" >-0.129594</td>\n",
       "      <td id=\"T_271b0_row1_col18\" class=\"data row1 col18\" >-0.202944</td>\n",
       "    </tr>\n",
       "    <tr>\n",
       "      <th id=\"T_271b0_level0_row2\" class=\"row_heading level0 row2\" >general_sq</th>\n",
       "      <td id=\"T_271b0_row2_col0\" class=\"data row2 col0\" >0.554786</td>\n",
       "      <td id=\"T_271b0_row2_col1\" class=\"data row2 col1\" >0.056754</td>\n",
       "      <td id=\"T_271b0_row2_col2\" class=\"data row2 col2\" >1.000000</td>\n",
       "      <td id=\"T_271b0_row2_col3\" class=\"data row2 col3\" >-0.049424</td>\n",
       "      <td id=\"T_271b0_row2_col4\" class=\"data row2 col4\" >0.006668</td>\n",
       "      <td id=\"T_271b0_row2_col5\" class=\"data row2 col5\" >-0.117751</td>\n",
       "      <td id=\"T_271b0_row2_col6\" class=\"data row2 col6\" >0.313936</td>\n",
       "      <td id=\"T_271b0_row2_col7\" class=\"data row2 col7\" >-0.043099</td>\n",
       "      <td id=\"T_271b0_row2_col8\" class=\"data row2 col8\" >-0.100933</td>\n",
       "      <td id=\"T_271b0_row2_col9\" class=\"data row2 col9\" >-0.082294</td>\n",
       "      <td id=\"T_271b0_row2_col10\" class=\"data row2 col10\" >-0.294150</td>\n",
       "      <td id=\"T_271b0_row2_col11\" class=\"data row2 col11\" >-0.001733</td>\n",
       "      <td id=\"T_271b0_row2_col12\" class=\"data row2 col12\" >0.018865</td>\n",
       "      <td id=\"T_271b0_row2_col13\" class=\"data row2 col13\" >0.028093</td>\n",
       "      <td id=\"T_271b0_row2_col14\" class=\"data row2 col14\" >0.227089</td>\n",
       "      <td id=\"T_271b0_row2_col15\" class=\"data row2 col15\" >-0.262906</td>\n",
       "      <td id=\"T_271b0_row2_col16\" class=\"data row2 col16\" >0.291031</td>\n",
       "      <td id=\"T_271b0_row2_col17\" class=\"data row2 col17\" >-0.161958</td>\n",
       "      <td id=\"T_271b0_row2_col18\" class=\"data row2 col18\" >0.035230</td>\n",
       "    </tr>\n",
       "    <tr>\n",
       "      <th id=\"T_271b0_level0_row3\" class=\"row_heading level0 row3\" >floor</th>\n",
       "      <td id=\"T_271b0_row3_col0\" class=\"data row3 col0\" >0.110728</td>\n",
       "      <td id=\"T_271b0_row3_col1\" class=\"data row3 col1\" >0.086821</td>\n",
       "      <td id=\"T_271b0_row3_col2\" class=\"data row3 col2\" >-0.049424</td>\n",
       "      <td id=\"T_271b0_row3_col3\" class=\"data row3 col3\" >1.000000</td>\n",
       "      <td id=\"T_271b0_row3_col4\" class=\"data row3 col4\" >0.203904</td>\n",
       "      <td id=\"T_271b0_row3_col5\" class=\"data row3 col5\" >-0.023937</td>\n",
       "      <td id=\"T_271b0_row3_col6\" class=\"data row3 col6\" >-0.073480</td>\n",
       "      <td id=\"T_271b0_row3_col7\" class=\"data row3 col7\" >-0.103723</td>\n",
       "      <td id=\"T_271b0_row3_col8\" class=\"data row3 col8\" >-0.115453</td>\n",
       "      <td id=\"T_271b0_row3_col9\" class=\"data row3 col9\" >0.510986</td>\n",
       "      <td id=\"T_271b0_row3_col10\" class=\"data row3 col10\" >-0.073634</td>\n",
       "      <td id=\"T_271b0_row3_col11\" class=\"data row3 col11\" >0.246195</td>\n",
       "      <td id=\"T_271b0_row3_col12\" class=\"data row3 col12\" >-0.082158</td>\n",
       "      <td id=\"T_271b0_row3_col13\" class=\"data row3 col13\" >0.039776</td>\n",
       "      <td id=\"T_271b0_row3_col14\" class=\"data row3 col14\" >-0.034214</td>\n",
       "      <td id=\"T_271b0_row3_col15\" class=\"data row3 col15\" >0.112028</td>\n",
       "      <td id=\"T_271b0_row3_col16\" class=\"data row3 col16\" >0.030492</td>\n",
       "      <td id=\"T_271b0_row3_col17\" class=\"data row3 col17\" >-0.173065</td>\n",
       "      <td id=\"T_271b0_row3_col18\" class=\"data row3 col18\" >-0.040251</td>\n",
       "    </tr>\n",
       "    <tr>\n",
       "      <th id=\"T_271b0_level0_row4\" class=\"row_heading level0 row4\" >built</th>\n",
       "      <td id=\"T_271b0_row4_col0\" class=\"data row4 col0\" >-0.124372</td>\n",
       "      <td id=\"T_271b0_row4_col1\" class=\"data row4 col1\" >0.144301</td>\n",
       "      <td id=\"T_271b0_row4_col2\" class=\"data row4 col2\" >0.006668</td>\n",
       "      <td id=\"T_271b0_row4_col3\" class=\"data row4 col3\" >0.203904</td>\n",
       "      <td id=\"T_271b0_row4_col4\" class=\"data row4 col4\" >1.000000</td>\n",
       "      <td id=\"T_271b0_row4_col5\" class=\"data row4 col5\" >0.138900</td>\n",
       "      <td id=\"T_271b0_row4_col6\" class=\"data row4 col6\" >0.089103</td>\n",
       "      <td id=\"T_271b0_row4_col7\" class=\"data row4 col7\" >-0.066466</td>\n",
       "      <td id=\"T_271b0_row4_col8\" class=\"data row4 col8\" >-0.065452</td>\n",
       "      <td id=\"T_271b0_row4_col9\" class=\"data row4 col9\" >0.293395</td>\n",
       "      <td id=\"T_271b0_row4_col10\" class=\"data row4 col10\" >0.097669</td>\n",
       "      <td id=\"T_271b0_row4_col11\" class=\"data row4 col11\" >0.134309</td>\n",
       "      <td id=\"T_271b0_row4_col12\" class=\"data row4 col12\" >-0.120309</td>\n",
       "      <td id=\"T_271b0_row4_col13\" class=\"data row4 col13\" >0.061631</td>\n",
       "      <td id=\"T_271b0_row4_col14\" class=\"data row4 col14\" >0.028205</td>\n",
       "      <td id=\"T_271b0_row4_col15\" class=\"data row4 col15\" >0.099481</td>\n",
       "      <td id=\"T_271b0_row4_col16\" class=\"data row4 col16\" >0.002341</td>\n",
       "      <td id=\"T_271b0_row4_col17\" class=\"data row4 col17\" >-0.179972</td>\n",
       "      <td id=\"T_271b0_row4_col18\" class=\"data row4 col18\" >-0.060178</td>\n",
       "    </tr>\n",
       "    <tr>\n",
       "      <th id=\"T_271b0_level0_row5\" class=\"row_heading level0 row5\" >ceil</th>\n",
       "      <td id=\"T_271b0_row5_col0\" class=\"data row5 col0\" >-0.175832</td>\n",
       "      <td id=\"T_271b0_row5_col1\" class=\"data row5 col1\" >0.085305</td>\n",
       "      <td id=\"T_271b0_row5_col2\" class=\"data row5 col2\" >-0.117751</td>\n",
       "      <td id=\"T_271b0_row5_col3\" class=\"data row5 col3\" >-0.023937</td>\n",
       "      <td id=\"T_271b0_row5_col4\" class=\"data row5 col4\" >0.138900</td>\n",
       "      <td id=\"T_271b0_row5_col5\" class=\"data row5 col5\" >1.000000</td>\n",
       "      <td id=\"T_271b0_row5_col6\" class=\"data row5 col6\" >-0.009106</td>\n",
       "      <td id=\"T_271b0_row5_col7\" class=\"data row5 col7\" >0.017374</td>\n",
       "      <td id=\"T_271b0_row5_col8\" class=\"data row5 col8\" >0.085393</td>\n",
       "      <td id=\"T_271b0_row5_col9\" class=\"data row5 col9\" >-0.022436</td>\n",
       "      <td id=\"T_271b0_row5_col10\" class=\"data row5 col10\" >0.274066</td>\n",
       "      <td id=\"T_271b0_row5_col11\" class=\"data row5 col11\" >0.096334</td>\n",
       "      <td id=\"T_271b0_row5_col12\" class=\"data row5 col12\" >-0.055688</td>\n",
       "      <td id=\"T_271b0_row5_col13\" class=\"data row5 col13\" >0.029870</td>\n",
       "      <td id=\"T_271b0_row5_col14\" class=\"data row5 col14\" >0.054854</td>\n",
       "      <td id=\"T_271b0_row5_col15\" class=\"data row5 col15\" >0.097551</td>\n",
       "      <td id=\"T_271b0_row5_col16\" class=\"data row5 col16\" >-0.125011</td>\n",
       "      <td id=\"T_271b0_row5_col17\" class=\"data row5 col17\" >-0.032591</td>\n",
       "      <td id=\"T_271b0_row5_col18\" class=\"data row5 col18\" >-0.084707</td>\n",
       "    </tr>\n",
       "    <tr>\n",
       "      <th id=\"T_271b0_level0_row6\" class=\"row_heading level0 row6\" >time_to_underground</th>\n",
       "      <td id=\"T_271b0_row6_col0\" class=\"data row6 col0\" >-0.145846</td>\n",
       "      <td id=\"T_271b0_row6_col1\" class=\"data row6 col1\" >0.132119</td>\n",
       "      <td id=\"T_271b0_row6_col2\" class=\"data row6 col2\" >0.313936</td>\n",
       "      <td id=\"T_271b0_row6_col3\" class=\"data row6 col3\" >-0.073480</td>\n",
       "      <td id=\"T_271b0_row6_col4\" class=\"data row6 col4\" >0.089103</td>\n",
       "      <td id=\"T_271b0_row6_col5\" class=\"data row6 col5\" >-0.009106</td>\n",
       "      <td id=\"T_271b0_row6_col6\" class=\"data row6 col6\" >1.000000</td>\n",
       "      <td id=\"T_271b0_row6_col7\" class=\"data row6 col7\" >-0.051466</td>\n",
       "      <td id=\"T_271b0_row6_col8\" class=\"data row6 col8\" >-0.054208</td>\n",
       "      <td id=\"T_271b0_row6_col9\" class=\"data row6 col9\" >-0.149322</td>\n",
       "      <td id=\"T_271b0_row6_col10\" class=\"data row6 col10\" >-0.164910</td>\n",
       "      <td id=\"T_271b0_row6_col11\" class=\"data row6 col11\" >0.032002</td>\n",
       "      <td id=\"T_271b0_row6_col12\" class=\"data row6 col12\" >-0.070771</td>\n",
       "      <td id=\"T_271b0_row6_col13\" class=\"data row6 col13\" >-0.005392</td>\n",
       "      <td id=\"T_271b0_row6_col14\" class=\"data row6 col14\" >0.089551</td>\n",
       "      <td id=\"T_271b0_row6_col15\" class=\"data row6 col15\" >-0.075167</td>\n",
       "      <td id=\"T_271b0_row6_col16\" class=\"data row6 col16\" >0.166828</td>\n",
       "      <td id=\"T_271b0_row6_col17\" class=\"data row6 col17\" >-0.041864</td>\n",
       "      <td id=\"T_271b0_row6_col18\" class=\"data row6 col18\" >-0.032263</td>\n",
       "    </tr>\n",
       "    <tr>\n",
       "      <th id=\"T_271b0_level0_row7\" class=\"row_heading level0 row7\" >all_views</th>\n",
       "      <td id=\"T_271b0_row7_col0\" class=\"data row7 col0\" >-0.139285</td>\n",
       "      <td id=\"T_271b0_row7_col1\" class=\"data row7 col1\" >-0.095970</td>\n",
       "      <td id=\"T_271b0_row7_col2\" class=\"data row7 col2\" >-0.043099</td>\n",
       "      <td id=\"T_271b0_row7_col3\" class=\"data row7 col3\" >-0.103723</td>\n",
       "      <td id=\"T_271b0_row7_col4\" class=\"data row7 col4\" >-0.066466</td>\n",
       "      <td id=\"T_271b0_row7_col5\" class=\"data row7 col5\" >0.017374</td>\n",
       "      <td id=\"T_271b0_row7_col6\" class=\"data row7 col6\" >-0.051466</td>\n",
       "      <td id=\"T_271b0_row7_col7\" class=\"data row7 col7\" >1.000000</td>\n",
       "      <td id=\"T_271b0_row7_col8\" class=\"data row7 col8\" >0.311334</td>\n",
       "      <td id=\"T_271b0_row7_col9\" class=\"data row7 col9\" >-0.144684</td>\n",
       "      <td id=\"T_271b0_row7_col10\" class=\"data row7 col10\" >0.152248</td>\n",
       "      <td id=\"T_271b0_row7_col11\" class=\"data row7 col11\" >-0.169715</td>\n",
       "      <td id=\"T_271b0_row7_col12\" class=\"data row7 col12\" >0.049624</td>\n",
       "      <td id=\"T_271b0_row7_col13\" class=\"data row7 col13\" >0.022724</td>\n",
       "      <td id=\"T_271b0_row7_col14\" class=\"data row7 col14\" >-0.004333</td>\n",
       "      <td id=\"T_271b0_row7_col15\" class=\"data row7 col15\" >-0.052984</td>\n",
       "      <td id=\"T_271b0_row7_col16\" class=\"data row7 col16\" >-0.013411</td>\n",
       "      <td id=\"T_271b0_row7_col17\" class=\"data row7 col17\" >0.135549</td>\n",
       "      <td id=\"T_271b0_row7_col18\" class=\"data row7 col18\" >0.140218</td>\n",
       "    </tr>\n",
       "    <tr>\n",
       "      <th id=\"T_271b0_level0_row8\" class=\"row_heading level0 row8\" >today_views</th>\n",
       "      <td id=\"T_271b0_row8_col0\" class=\"data row8 col0\" >-0.290477</td>\n",
       "      <td id=\"T_271b0_row8_col1\" class=\"data row8 col1\" >-0.107372</td>\n",
       "      <td id=\"T_271b0_row8_col2\" class=\"data row8 col2\" >-0.100933</td>\n",
       "      <td id=\"T_271b0_row8_col3\" class=\"data row8 col3\" >-0.115453</td>\n",
       "      <td id=\"T_271b0_row8_col4\" class=\"data row8 col4\" >-0.065452</td>\n",
       "      <td id=\"T_271b0_row8_col5\" class=\"data row8 col5\" >0.085393</td>\n",
       "      <td id=\"T_271b0_row8_col6\" class=\"data row8 col6\" >-0.054208</td>\n",
       "      <td id=\"T_271b0_row8_col7\" class=\"data row8 col7\" >0.311334</td>\n",
       "      <td id=\"T_271b0_row8_col8\" class=\"data row8 col8\" >1.000000</td>\n",
       "      <td id=\"T_271b0_row8_col9\" class=\"data row8 col9\" >-0.174526</td>\n",
       "      <td id=\"T_271b0_row8_col10\" class=\"data row8 col10\" >0.149130</td>\n",
       "      <td id=\"T_271b0_row8_col11\" class=\"data row8 col11\" >-0.217833</td>\n",
       "      <td id=\"T_271b0_row8_col12\" class=\"data row8 col12\" >0.057025</td>\n",
       "      <td id=\"T_271b0_row8_col13\" class=\"data row8 col13\" >0.001849</td>\n",
       "      <td id=\"T_271b0_row8_col14\" class=\"data row8 col14\" >-0.011404</td>\n",
       "      <td id=\"T_271b0_row8_col15\" class=\"data row8 col15\" >-0.036684</td>\n",
       "      <td id=\"T_271b0_row8_col16\" class=\"data row8 col16\" >-0.011979</td>\n",
       "      <td id=\"T_271b0_row8_col17\" class=\"data row8 col17\" >0.145298</td>\n",
       "      <td id=\"T_271b0_row8_col18\" class=\"data row8 col18\" >0.008458</td>\n",
       "    </tr>\n",
       "    <tr>\n",
       "      <th id=\"T_271b0_level0_row9\" class=\"row_heading level0 row9\" >total_floors</th>\n",
       "      <td id=\"T_271b0_row9_col0\" class=\"data row9 col0\" >0.134315</td>\n",
       "      <td id=\"T_271b0_row9_col1\" class=\"data row9 col1\" >0.141578</td>\n",
       "      <td id=\"T_271b0_row9_col2\" class=\"data row9 col2\" >-0.082294</td>\n",
       "      <td id=\"T_271b0_row9_col3\" class=\"data row9 col3\" >0.510986</td>\n",
       "      <td id=\"T_271b0_row9_col4\" class=\"data row9 col4\" >0.293395</td>\n",
       "      <td id=\"T_271b0_row9_col5\" class=\"data row9 col5\" >-0.022436</td>\n",
       "      <td id=\"T_271b0_row9_col6\" class=\"data row9 col6\" >-0.149322</td>\n",
       "      <td id=\"T_271b0_row9_col7\" class=\"data row9 col7\" >-0.144684</td>\n",
       "      <td id=\"T_271b0_row9_col8\" class=\"data row9 col8\" >-0.174526</td>\n",
       "      <td id=\"T_271b0_row9_col9\" class=\"data row9 col9\" >1.000000</td>\n",
       "      <td id=\"T_271b0_row9_col10\" class=\"data row9 col10\" >-0.076929</td>\n",
       "      <td id=\"T_271b0_row9_col11\" class=\"data row9 col11\" >0.422079</td>\n",
       "      <td id=\"T_271b0_row9_col12\" class=\"data row9 col12\" >-0.150087</td>\n",
       "      <td id=\"T_271b0_row9_col13\" class=\"data row9 col13\" >0.005218</td>\n",
       "      <td id=\"T_271b0_row9_col14\" class=\"data row9 col14\" >-0.043879</td>\n",
       "      <td id=\"T_271b0_row9_col15\" class=\"data row9 col15\" >0.128265</td>\n",
       "      <td id=\"T_271b0_row9_col16\" class=\"data row9 col16\" >-0.127140</td>\n",
       "      <td id=\"T_271b0_row9_col17\" class=\"data row9 col17\" >-0.272771</td>\n",
       "      <td id=\"T_271b0_row9_col18\" class=\"data row9 col18\" >-0.090272</td>\n",
       "    </tr>\n",
       "    <tr>\n",
       "      <th id=\"T_271b0_level0_row10\" class=\"row_heading level0 row10\" >apartments</th>\n",
       "      <td id=\"T_271b0_row10_col0\" class=\"data row10 col0\" >-0.343296</td>\n",
       "      <td id=\"T_271b0_row10_col1\" class=\"data row10 col1\" >0.067662</td>\n",
       "      <td id=\"T_271b0_row10_col2\" class=\"data row10 col2\" >-0.294150</td>\n",
       "      <td id=\"T_271b0_row10_col3\" class=\"data row10 col3\" >-0.073634</td>\n",
       "      <td id=\"T_271b0_row10_col4\" class=\"data row10 col4\" >0.097669</td>\n",
       "      <td id=\"T_271b0_row10_col5\" class=\"data row10 col5\" >0.274066</td>\n",
       "      <td id=\"T_271b0_row10_col6\" class=\"data row10 col6\" >-0.164910</td>\n",
       "      <td id=\"T_271b0_row10_col7\" class=\"data row10 col7\" >0.152248</td>\n",
       "      <td id=\"T_271b0_row10_col8\" class=\"data row10 col8\" >0.149130</td>\n",
       "      <td id=\"T_271b0_row10_col9\" class=\"data row10 col9\" >-0.076929</td>\n",
       "      <td id=\"T_271b0_row10_col10\" class=\"data row10 col10\" >1.000000</td>\n",
       "      <td id=\"T_271b0_row10_col11\" class=\"data row10 col11\" >-0.087308</td>\n",
       "      <td id=\"T_271b0_row10_col12\" class=\"data row10 col12\" >-0.065811</td>\n",
       "      <td id=\"T_271b0_row10_col13\" class=\"data row10 col13\" >0.071275</td>\n",
       "      <td id=\"T_271b0_row10_col14\" class=\"data row10 col14\" >0.030317</td>\n",
       "      <td id=\"T_271b0_row10_col15\" class=\"data row10 col15\" >0.095367</td>\n",
       "      <td id=\"T_271b0_row10_col16\" class=\"data row10 col16\" >-0.264194</td>\n",
       "      <td id=\"T_271b0_row10_col17\" class=\"data row10 col17\" >0.202769</td>\n",
       "      <td id=\"T_271b0_row10_col18\" class=\"data row10 col18\" >-0.021623</td>\n",
       "    </tr>\n",
       "    <tr>\n",
       "      <th id=\"T_271b0_level0_row11\" class=\"row_heading level0 row11\" >new_building</th>\n",
       "      <td id=\"T_271b0_row11_col0\" class=\"data row11 col0\" >-0.074122</td>\n",
       "      <td id=\"T_271b0_row11_col1\" class=\"data row11 col1\" >0.459338</td>\n",
       "      <td id=\"T_271b0_row11_col2\" class=\"data row11 col2\" >-0.001733</td>\n",
       "      <td id=\"T_271b0_row11_col3\" class=\"data row11 col3\" >0.246195</td>\n",
       "      <td id=\"T_271b0_row11_col4\" class=\"data row11 col4\" >0.134309</td>\n",
       "      <td id=\"T_271b0_row11_col5\" class=\"data row11 col5\" >0.096334</td>\n",
       "      <td id=\"T_271b0_row11_col6\" class=\"data row11 col6\" >0.032002</td>\n",
       "      <td id=\"T_271b0_row11_col7\" class=\"data row11 col7\" >-0.169715</td>\n",
       "      <td id=\"T_271b0_row11_col8\" class=\"data row11 col8\" >-0.217833</td>\n",
       "      <td id=\"T_271b0_row11_col9\" class=\"data row11 col9\" >0.422079</td>\n",
       "      <td id=\"T_271b0_row11_col10\" class=\"data row11 col10\" >-0.087308</td>\n",
       "      <td id=\"T_271b0_row11_col11\" class=\"data row11 col11\" >1.000000</td>\n",
       "      <td id=\"T_271b0_row11_col12\" class=\"data row11 col12\" >-0.225374</td>\n",
       "      <td id=\"T_271b0_row11_col13\" class=\"data row11 col13\" >-0.057420</td>\n",
       "      <td id=\"T_271b0_row11_col14\" class=\"data row11 col14\" >0.062588</td>\n",
       "      <td id=\"T_271b0_row11_col15\" class=\"data row11 col15\" >0.219262</td>\n",
       "      <td id=\"T_271b0_row11_col16\" class=\"data row11 col16\" >-0.204026</td>\n",
       "      <td id=\"T_271b0_row11_col17\" class=\"data row11 col17\" >-0.353910</td>\n",
       "      <td id=\"T_271b0_row11_col18\" class=\"data row11 col18\" >-0.196571</td>\n",
       "    </tr>\n",
       "    <tr>\n",
       "      <th id=\"T_271b0_level0_row12\" class=\"row_heading level0 row12\" >courtyard_view</th>\n",
       "      <td id=\"T_271b0_row12_col0\" class=\"data row12 col0\" >0.105454</td>\n",
       "      <td id=\"T_271b0_row12_col1\" class=\"data row12 col1\" >-0.211263</td>\n",
       "      <td id=\"T_271b0_row12_col2\" class=\"data row12 col2\" >0.018865</td>\n",
       "      <td id=\"T_271b0_row12_col3\" class=\"data row12 col3\" >-0.082158</td>\n",
       "      <td id=\"T_271b0_row12_col4\" class=\"data row12 col4\" >-0.120309</td>\n",
       "      <td id=\"T_271b0_row12_col5\" class=\"data row12 col5\" >-0.055688</td>\n",
       "      <td id=\"T_271b0_row12_col6\" class=\"data row12 col6\" >-0.070771</td>\n",
       "      <td id=\"T_271b0_row12_col7\" class=\"data row12 col7\" >0.049624</td>\n",
       "      <td id=\"T_271b0_row12_col8\" class=\"data row12 col8\" >0.057025</td>\n",
       "      <td id=\"T_271b0_row12_col9\" class=\"data row12 col9\" >-0.150087</td>\n",
       "      <td id=\"T_271b0_row12_col10\" class=\"data row12 col10\" >-0.065811</td>\n",
       "      <td id=\"T_271b0_row12_col11\" class=\"data row12 col11\" >-0.225374</td>\n",
       "      <td id=\"T_271b0_row12_col12\" class=\"data row12 col12\" >1.000000</td>\n",
       "      <td id=\"T_271b0_row12_col13\" class=\"data row12 col13\" >-0.330915</td>\n",
       "      <td id=\"T_271b0_row12_col14\" class=\"data row12 col14\" >-0.028747</td>\n",
       "      <td id=\"T_271b0_row12_col15\" class=\"data row12 col15\" >-0.077791</td>\n",
       "      <td id=\"T_271b0_row12_col16\" class=\"data row12 col16\" >0.100132</td>\n",
       "      <td id=\"T_271b0_row12_col17\" class=\"data row12 col17\" >0.092367</td>\n",
       "      <td id=\"T_271b0_row12_col18\" class=\"data row12 col18\" >0.072946</td>\n",
       "    </tr>\n",
       "    <tr>\n",
       "      <th id=\"T_271b0_level0_row13\" class=\"row_heading level0 row13\" >road_view</th>\n",
       "      <td id=\"T_271b0_row13_col0\" class=\"data row13 col0\" >0.018495</td>\n",
       "      <td id=\"T_271b0_row13_col1\" class=\"data row13 col1\" >0.028657</td>\n",
       "      <td id=\"T_271b0_row13_col2\" class=\"data row13 col2\" >0.028093</td>\n",
       "      <td id=\"T_271b0_row13_col3\" class=\"data row13 col3\" >0.039776</td>\n",
       "      <td id=\"T_271b0_row13_col4\" class=\"data row13 col4\" >0.061631</td>\n",
       "      <td id=\"T_271b0_row13_col5\" class=\"data row13 col5\" >0.029870</td>\n",
       "      <td id=\"T_271b0_row13_col6\" class=\"data row13 col6\" >-0.005392</td>\n",
       "      <td id=\"T_271b0_row13_col7\" class=\"data row13 col7\" >0.022724</td>\n",
       "      <td id=\"T_271b0_row13_col8\" class=\"data row13 col8\" >0.001849</td>\n",
       "      <td id=\"T_271b0_row13_col9\" class=\"data row13 col9\" >0.005218</td>\n",
       "      <td id=\"T_271b0_row13_col10\" class=\"data row13 col10\" >0.071275</td>\n",
       "      <td id=\"T_271b0_row13_col11\" class=\"data row13 col11\" >-0.057420</td>\n",
       "      <td id=\"T_271b0_row13_col12\" class=\"data row13 col12\" >-0.330915</td>\n",
       "      <td id=\"T_271b0_row13_col13\" class=\"data row13 col13\" >1.000000</td>\n",
       "      <td id=\"T_271b0_row13_col14\" class=\"data row13 col14\" >0.061425</td>\n",
       "      <td id=\"T_271b0_row13_col15\" class=\"data row13 col15\" >-0.017647</td>\n",
       "      <td id=\"T_271b0_row13_col16\" class=\"data row13 col16\" >0.028871</td>\n",
       "      <td id=\"T_271b0_row13_col17\" class=\"data row13 col17\" >0.019302</td>\n",
       "      <td id=\"T_271b0_row13_col18\" class=\"data row13 col18\" >0.034183</td>\n",
       "    </tr>\n",
       "    <tr>\n",
       "      <th id=\"T_271b0_level0_row14\" class=\"row_heading level0 row14\" >wc_amount</th>\n",
       "      <td id=\"T_271b0_row14_col0\" class=\"data row14 col0\" >0.055396</td>\n",
       "      <td id=\"T_271b0_row14_col1\" class=\"data row14 col1\" >0.078094</td>\n",
       "      <td id=\"T_271b0_row14_col2\" class=\"data row14 col2\" >0.227089</td>\n",
       "      <td id=\"T_271b0_row14_col3\" class=\"data row14 col3\" >-0.034214</td>\n",
       "      <td id=\"T_271b0_row14_col4\" class=\"data row14 col4\" >0.028205</td>\n",
       "      <td id=\"T_271b0_row14_col5\" class=\"data row14 col5\" >0.054854</td>\n",
       "      <td id=\"T_271b0_row14_col6\" class=\"data row14 col6\" >0.089551</td>\n",
       "      <td id=\"T_271b0_row14_col7\" class=\"data row14 col7\" >-0.004333</td>\n",
       "      <td id=\"T_271b0_row14_col8\" class=\"data row14 col8\" >-0.011404</td>\n",
       "      <td id=\"T_271b0_row14_col9\" class=\"data row14 col9\" >-0.043879</td>\n",
       "      <td id=\"T_271b0_row14_col10\" class=\"data row14 col10\" >0.030317</td>\n",
       "      <td id=\"T_271b0_row14_col11\" class=\"data row14 col11\" >0.062588</td>\n",
       "      <td id=\"T_271b0_row14_col12\" class=\"data row14 col12\" >-0.028747</td>\n",
       "      <td id=\"T_271b0_row14_col13\" class=\"data row14 col13\" >0.061425</td>\n",
       "      <td id=\"T_271b0_row14_col14\" class=\"data row14 col14\" >1.000000</td>\n",
       "      <td id=\"T_271b0_row14_col15\" class=\"data row14 col15\" >-0.059816</td>\n",
       "      <td id=\"T_271b0_row14_col16\" class=\"data row14 col16\" >0.036980</td>\n",
       "      <td id=\"T_271b0_row14_col17\" class=\"data row14 col17\" >0.002731</td>\n",
       "      <td id=\"T_271b0_row14_col18\" class=\"data row14 col18\" >0.008534</td>\n",
       "    </tr>\n",
       "    <tr>\n",
       "      <th id=\"T_271b0_level0_row15\" class=\"row_heading level0 row15\" >joint_wc</th>\n",
       "      <td id=\"T_271b0_row15_col0\" class=\"data row15 col0\" >-0.169581</td>\n",
       "      <td id=\"T_271b0_row15_col1\" class=\"data row15 col1\" >0.142201</td>\n",
       "      <td id=\"T_271b0_row15_col2\" class=\"data row15 col2\" >-0.262906</td>\n",
       "      <td id=\"T_271b0_row15_col3\" class=\"data row15 col3\" >0.112028</td>\n",
       "      <td id=\"T_271b0_row15_col4\" class=\"data row15 col4\" >0.099481</td>\n",
       "      <td id=\"T_271b0_row15_col5\" class=\"data row15 col5\" >0.097551</td>\n",
       "      <td id=\"T_271b0_row15_col6\" class=\"data row15 col6\" >-0.075167</td>\n",
       "      <td id=\"T_271b0_row15_col7\" class=\"data row15 col7\" >-0.052984</td>\n",
       "      <td id=\"T_271b0_row15_col8\" class=\"data row15 col8\" >-0.036684</td>\n",
       "      <td id=\"T_271b0_row15_col9\" class=\"data row15 col9\" >0.128265</td>\n",
       "      <td id=\"T_271b0_row15_col10\" class=\"data row15 col10\" >0.095367</td>\n",
       "      <td id=\"T_271b0_row15_col11\" class=\"data row15 col11\" >0.219262</td>\n",
       "      <td id=\"T_271b0_row15_col12\" class=\"data row15 col12\" >-0.077791</td>\n",
       "      <td id=\"T_271b0_row15_col13\" class=\"data row15 col13\" >-0.017647</td>\n",
       "      <td id=\"T_271b0_row15_col14\" class=\"data row15 col14\" >-0.059816</td>\n",
       "      <td id=\"T_271b0_row15_col15\" class=\"data row15 col15\" >1.000000</td>\n",
       "      <td id=\"T_271b0_row15_col16\" class=\"data row15 col16\" >-0.160028</td>\n",
       "      <td id=\"T_271b0_row15_col17\" class=\"data row15 col17\" >-0.096623</td>\n",
       "      <td id=\"T_271b0_row15_col18\" class=\"data row15 col18\" >-0.066945</td>\n",
       "    </tr>\n",
       "    <tr>\n",
       "      <th id=\"T_271b0_level0_row16\" class=\"row_heading level0 row16\" >balcony</th>\n",
       "      <td id=\"T_271b0_row16_col0\" class=\"data row16 col0\" >0.179034</td>\n",
       "      <td id=\"T_271b0_row16_col1\" class=\"data row16 col1\" >-0.148496</td>\n",
       "      <td id=\"T_271b0_row16_col2\" class=\"data row16 col2\" >0.291031</td>\n",
       "      <td id=\"T_271b0_row16_col3\" class=\"data row16 col3\" >0.030492</td>\n",
       "      <td id=\"T_271b0_row16_col4\" class=\"data row16 col4\" >0.002341</td>\n",
       "      <td id=\"T_271b0_row16_col5\" class=\"data row16 col5\" >-0.125011</td>\n",
       "      <td id=\"T_271b0_row16_col6\" class=\"data row16 col6\" >0.166828</td>\n",
       "      <td id=\"T_271b0_row16_col7\" class=\"data row16 col7\" >-0.013411</td>\n",
       "      <td id=\"T_271b0_row16_col8\" class=\"data row16 col8\" >-0.011979</td>\n",
       "      <td id=\"T_271b0_row16_col9\" class=\"data row16 col9\" >-0.127140</td>\n",
       "      <td id=\"T_271b0_row16_col10\" class=\"data row16 col10\" >-0.264194</td>\n",
       "      <td id=\"T_271b0_row16_col11\" class=\"data row16 col11\" >-0.204026</td>\n",
       "      <td id=\"T_271b0_row16_col12\" class=\"data row16 col12\" >0.100132</td>\n",
       "      <td id=\"T_271b0_row16_col13\" class=\"data row16 col13\" >0.028871</td>\n",
       "      <td id=\"T_271b0_row16_col14\" class=\"data row16 col14\" >0.036980</td>\n",
       "      <td id=\"T_271b0_row16_col15\" class=\"data row16 col15\" >-0.160028</td>\n",
       "      <td id=\"T_271b0_row16_col16\" class=\"data row16 col16\" >1.000000</td>\n",
       "      <td id=\"T_271b0_row16_col17\" class=\"data row16 col17\" >-0.052209</td>\n",
       "      <td id=\"T_271b0_row16_col18\" class=\"data row16 col18\" >0.116761</td>\n",
       "    </tr>\n",
       "    <tr>\n",
       "      <th id=\"T_271b0_level0_row17\" class=\"row_heading level0 row17\" >living_square_ratio</th>\n",
       "      <td id=\"T_271b0_row17_col0\" class=\"data row17 col0\" >-0.154432</td>\n",
       "      <td id=\"T_271b0_row17_col1\" class=\"data row17 col1\" >-0.129594</td>\n",
       "      <td id=\"T_271b0_row17_col2\" class=\"data row17 col2\" >-0.161958</td>\n",
       "      <td id=\"T_271b0_row17_col3\" class=\"data row17 col3\" >-0.173065</td>\n",
       "      <td id=\"T_271b0_row17_col4\" class=\"data row17 col4\" >-0.179972</td>\n",
       "      <td id=\"T_271b0_row17_col5\" class=\"data row17 col5\" >-0.032591</td>\n",
       "      <td id=\"T_271b0_row17_col6\" class=\"data row17 col6\" >-0.041864</td>\n",
       "      <td id=\"T_271b0_row17_col7\" class=\"data row17 col7\" >0.135549</td>\n",
       "      <td id=\"T_271b0_row17_col8\" class=\"data row17 col8\" >0.145298</td>\n",
       "      <td id=\"T_271b0_row17_col9\" class=\"data row17 col9\" >-0.272771</td>\n",
       "      <td id=\"T_271b0_row17_col10\" class=\"data row17 col10\" >0.202769</td>\n",
       "      <td id=\"T_271b0_row17_col11\" class=\"data row17 col11\" >-0.353910</td>\n",
       "      <td id=\"T_271b0_row17_col12\" class=\"data row17 col12\" >0.092367</td>\n",
       "      <td id=\"T_271b0_row17_col13\" class=\"data row17 col13\" >0.019302</td>\n",
       "      <td id=\"T_271b0_row17_col14\" class=\"data row17 col14\" >0.002731</td>\n",
       "      <td id=\"T_271b0_row17_col15\" class=\"data row17 col15\" >-0.096623</td>\n",
       "      <td id=\"T_271b0_row17_col16\" class=\"data row17 col16\" >-0.052209</td>\n",
       "      <td id=\"T_271b0_row17_col17\" class=\"data row17 col17\" >1.000000</td>\n",
       "      <td id=\"T_271b0_row17_col18\" class=\"data row17 col18\" >0.095130</td>\n",
       "    </tr>\n",
       "    <tr>\n",
       "      <th id=\"T_271b0_level0_row18\" class=\"row_heading level0 row18\" >placed_days_ago</th>\n",
       "      <td id=\"T_271b0_row18_col0\" class=\"data row18 col0\" >0.045961</td>\n",
       "      <td id=\"T_271b0_row18_col1\" class=\"data row18 col1\" >-0.202944</td>\n",
       "      <td id=\"T_271b0_row18_col2\" class=\"data row18 col2\" >0.035230</td>\n",
       "      <td id=\"T_271b0_row18_col3\" class=\"data row18 col3\" >-0.040251</td>\n",
       "      <td id=\"T_271b0_row18_col4\" class=\"data row18 col4\" >-0.060178</td>\n",
       "      <td id=\"T_271b0_row18_col5\" class=\"data row18 col5\" >-0.084707</td>\n",
       "      <td id=\"T_271b0_row18_col6\" class=\"data row18 col6\" >-0.032263</td>\n",
       "      <td id=\"T_271b0_row18_col7\" class=\"data row18 col7\" >0.140218</td>\n",
       "      <td id=\"T_271b0_row18_col8\" class=\"data row18 col8\" >0.008458</td>\n",
       "      <td id=\"T_271b0_row18_col9\" class=\"data row18 col9\" >-0.090272</td>\n",
       "      <td id=\"T_271b0_row18_col10\" class=\"data row18 col10\" >-0.021623</td>\n",
       "      <td id=\"T_271b0_row18_col11\" class=\"data row18 col11\" >-0.196571</td>\n",
       "      <td id=\"T_271b0_row18_col12\" class=\"data row18 col12\" >0.072946</td>\n",
       "      <td id=\"T_271b0_row18_col13\" class=\"data row18 col13\" >0.034183</td>\n",
       "      <td id=\"T_271b0_row18_col14\" class=\"data row18 col14\" >0.008534</td>\n",
       "      <td id=\"T_271b0_row18_col15\" class=\"data row18 col15\" >-0.066945</td>\n",
       "      <td id=\"T_271b0_row18_col16\" class=\"data row18 col16\" >0.116761</td>\n",
       "      <td id=\"T_271b0_row18_col17\" class=\"data row18 col17\" >0.095130</td>\n",
       "      <td id=\"T_271b0_row18_col18\" class=\"data row18 col18\" >1.000000</td>\n",
       "    </tr>\n",
       "  </tbody>\n",
       "</table>\n"
      ],
      "text/plain": [
       "<pandas.io.formats.style.Styler at 0x11c0ec730>"
      ]
     },
     "execution_count": 70,
     "metadata": {},
     "output_type": "execute_result"
    }
   ],
   "source": [
    "corr = raw_df.corr()\n",
    "corr.style.background_gradient()"
   ]
  },
  {
   "cell_type": "code",
   "execution_count": 73,
   "id": "b3648e40",
   "metadata": {},
   "outputs": [
    {
     "data": {
      "text/plain": [
       "[<matplotlib.lines.Line2D at 0x11c9e7fd0>]"
      ]
     },
     "execution_count": 73,
     "metadata": {},
     "output_type": "execute_result"
    },
    {
     "data": {
      "image/png": "[encoded data removed]",
      "text/plain": [
       "<Figure size 432x288 with 1 Axes>"
      ]
     },
     "metadata": {
      "needs_background": "light"
     },
     "output_type": "display_data"
    }
   ],
   "source": [
    "plt.plot(raw_df['price'], raw_df['general_sq'])"
   ]
  },
  {
   "cell_type": "code",
   "execution_count": 74,
   "id": "339861c3",
   "metadata": {},
   "outputs": [
    {
     "data": {
      "text/plain": [
       "[<matplotlib.lines.Line2D at 0x11cc638e0>]"
      ]
     },
     "execution_count": 74,
     "metadata": {},
     "output_type": "execute_result"
    },
    {
     "data": {
      "image/png": "[encoded data removed]",
      "text/plain": [
       "<Figure size 432x288 with 1 Axes>"
      ]
     },
     "metadata": {
      "needs_background": "light"
     },
     "output_type": "display_data"
    }
   ],
   "source": [
    "plt.plot(raw_df['price'], raw_df['description_len'])"
   ]
  },
  {
   "cell_type": "code",
   "execution_count": 75,
   "id": "caa1ceb2",
   "metadata": {},
   "outputs": [
    {
     "data": {
      "text/plain": [
       "[<matplotlib.lines.Line2D at 0x11d737b50>]"
      ]
     },
     "execution_count": 75,
     "metadata": {},
     "output_type": "execute_result"
    },
    {
     "data": {
      "image/png": "[encoded data removed]",
      "text/plain": [
       "<Figure size 432x288 with 1 Axes>"
      ]
     },
     "metadata": {
      "needs_background": "light"
     },
     "output_type": "display_data"
    }
   ],
   "source": [
    "plt.plot(raw_df['price'], raw_df['apartments'])"
   ]
  },
  {
   "cell_type": "code",
   "execution_count": 76,
   "id": "117223f3",
   "metadata": {},
   "outputs": [
    {
     "data": {
      "text/plain": [
       "[<matplotlib.lines.Line2D at 0x11de78bb0>]"
      ]
     },
     "execution_count": 76,
     "metadata": {},
     "output_type": "execute_result"
    },
    {
     "data": {
      "image/png": "[encoded data removed]",
      "text/plain": [
       "<Figure size 432x288 with 1 Axes>"
      ]
     },
     "metadata": {
      "needs_background": "light"
     },
     "output_type": "display_data"
    }
   ],
   "source": [
    "plt.plot(raw_df['price'], raw_df['floor'])"
   ]
  },
  {
   "cell_type": "code",
   "execution_count": 77,
   "id": "4834bc57",
   "metadata": {},
   "outputs": [
    {
     "data": {
      "text/plain": [
       "[<matplotlib.lines.Line2D at 0x11e378880>]"
      ]
     },
     "execution_count": 77,
     "metadata": {},
     "output_type": "execute_result"
    },
    {
     "data": {
      "image/png": "[encoded data removed]",
      "text/plain": [
       "<Figure size 432x288 with 1 Axes>"
      ]
     },
     "metadata": {
      "needs_background": "light"
     },
     "output_type": "display_data"
    }
   ],
   "source": [
    "plt.plot(raw_df['price'], raw_df['total_floors'])"
   ]
  },
  {
   "cell_type": "code",
   "execution_count": 78,
   "id": "a4385d25",
   "metadata": {},
   "outputs": [
    {
     "data": {
      "text/plain": [
       "[<matplotlib.lines.Line2D at 0x11e8a47f0>]"
      ]
     },
     "execution_count": 78,
     "metadata": {},
     "output_type": "execute_result"
    },
    {
     "data": {
      "image/png": "[encoded data removed]",
      "text/plain": [
       "<Figure size 432x288 with 1 Axes>"
      ]
     },
     "metadata": {
      "needs_background": "light"
     },
     "output_type": "display_data"
    }
   ],
   "source": [
    "plt.plot(raw_df['price'], raw_df['built'])"
   ]
  },
  {
   "cell_type": "code",
   "execution_count": 80,
   "id": "fed0728a",
   "metadata": {},
   "outputs": [
    {
     "data": {
      "text/plain": [
       "[<matplotlib.lines.Line2D at 0x11ed3d310>]"
      ]
     },
     "execution_count": 80,
     "metadata": {},
     "output_type": "execute_result"
    },
    {
     "data": {
      "image/png": "[encoded data removed]",
      "text/plain": [
       "<Figure size 432x288 with 1 Axes>"
      ]
     },
     "metadata": {
      "needs_background": "light"
     },
     "output_type": "display_data"
    }
   ],
   "source": [
    "plt.plot(raw_df['price'], raw_df['ceil'])"
   ]
  },
  {
   "cell_type": "code",
   "execution_count": 81,
   "id": "ac1b3f7b",
   "metadata": {},
   "outputs": [
    {
     "data": {
      "text/plain": [
       "[<matplotlib.lines.Line2D at 0x11f039c70>]"
      ]
     },
     "execution_count": 81,
     "metadata": {},
     "output_type": "execute_result"
    },
    {
     "data": {
      "image/png": "[encoded data removed]",
      "text/plain": [
       "<Figure size 432x288 with 1 Axes>"
      ]
     },
     "metadata": {
      "needs_background": "light"
     },
     "output_type": "display_data"
    }
   ],
   "source": [
    "plt.plot(raw_df['price'], raw_df['time_to_underground'])"
   ]
  },
  {
   "cell_type": "code",
   "execution_count": 85,
   "id": "d0ee3277",
   "metadata": {},
   "outputs": [
    {
     "data": {
      "text/plain": [
       "[<matplotlib.lines.Line2D at 0x11f3e9490>]"
      ]
     },
     "execution_count": 85,
     "metadata": {},
     "output_type": "execute_result"
    },
    {
     "data": {
      "image/png": "[encoded data removed]",
      "text/plain": [
       "<Figure size 432x288 with 1 Axes>"
      ]
     },
     "metadata": {
      "needs_background": "light"
     },
     "output_type": "display_data"
    }
   ],
   "source": [
    "plt.plot(raw_df['price'], raw_df['all_views'])"
   ]
  },
  {
   "cell_type": "code",
   "execution_count": 86,
   "id": "53ad0172",
   "metadata": {},
   "outputs": [
    {
     "data": {
      "text/plain": [
       "[<matplotlib.lines.Line2D at 0x11f5ca310>]"
      ]
     },
     "execution_count": 86,
     "metadata": {},
     "output_type": "execute_result"
    },
    {
     "data": {
      "image/png": "[encoded data removed]",
      "text/plain": [
       "<Figure size 432x288 with 1 Axes>"
      ]
     },
     "metadata": {
      "needs_background": "light"
     },
     "output_type": "display_data"
    }
   ],
   "source": [
    "plt.plot(raw_df['price'], raw_df['today_views'])"
   ]
  },
  {
   "cell_type": "code",
   "execution_count": 87,
   "id": "06eb08dc",
   "metadata": {},
   "outputs": [
    {
     "data": {
      "text/plain": [
       "[<matplotlib.lines.Line2D at 0x11f7e15b0>]"
      ]
     },
     "execution_count": 87,
     "metadata": {},
     "output_type": "execute_result"
    },
    {
     "data": {
      "image/png": "[encoded data removed]",
      "text/plain": [
       "<Figure size 432x288 with 1 Axes>"
      ]
     },
     "metadata": {
      "needs_background": "light"
     },
     "output_type": "display_data"
    }
   ],
   "source": [
    "plt.plot(raw_df['price'], raw_df['new_building'])"
   ]
  },
  {
   "cell_type": "code",
   "execution_count": 89,
   "id": "43520a4b",
   "metadata": {},
   "outputs": [
    {
     "data": {
      "text/plain": [
       "[<matplotlib.lines.Line2D at 0x11fee09d0>]"
      ]
     },
     "execution_count": 89,
     "metadata": {},
     "output_type": "execute_result"
    },
    {
     "data": {
      "image/png": "[encoded data removed]",
      "text/plain": [
       "<Figure size 432x288 with 1 Axes>"
      ]
     },
     "metadata": {
      "needs_background": "light"
     },
     "output_type": "display_data"
    }
   ],
   "source": [
    "plt.plot(raw_df['price'], raw_df['courtyard_view'])"
   ]
  },
  {
   "cell_type": "code",
   "execution_count": 90,
   "id": "2ed145ad",
   "metadata": {},
   "outputs": [
    {
     "data": {
      "text/plain": [
       "[<matplotlib.lines.Line2D at 0x120a88580>]"
      ]
     },
     "execution_count": 90,
     "metadata": {},
     "output_type": "execute_result"
    },
    {
     "data": {
      "image/png": "[encoded data removed]",
      "text/plain": [
       "<Figure size 432x288 with 1 Axes>"
      ]
     },
     "metadata": {
      "needs_background": "light"
     },
     "output_type": "display_data"
    }
   ],
   "source": [
    "plt.plot(raw_df['price'], raw_df['road_view'])"
   ]
  },
  {
   "cell_type": "code",
   "execution_count": 91,
   "id": "bd3230e0",
   "metadata": {},
   "outputs": [
    {
     "data": {
      "text/plain": [
       "[<matplotlib.lines.Line2D at 0x1212f87c0>]"
      ]
     },
     "execution_count": 91,
     "metadata": {},
     "output_type": "execute_result"
    },
    {
     "data": {
      "image/png": "[encoded data removed]",
      "text/plain": [
       "<Figure size 432x288 with 1 Axes>"
      ]
     },
     "metadata": {
      "needs_background": "light"
     },
     "output_type": "display_data"
    }
   ],
   "source": [
    "plt.plot(raw_df['price'], raw_df['wc_amount'])"
   ]
  },
  {
   "cell_type": "code",
   "execution_count": 92,
   "id": "8ce5b5e8",
   "metadata": {},
   "outputs": [
    {
     "data": {
      "text/plain": [
       "[<matplotlib.lines.Line2D at 0x12159abb0>]"
      ]
     },
     "execution_count": 92,
     "metadata": {},
     "output_type": "execute_result"
    },
    {
     "data": {
      "image/png": "[encoded data removed]",
      "text/plain": [
       "<Figure size 432x288 with 1 Axes>"
      ]
     },
     "metadata": {
      "needs_background": "light"
     },
     "output_type": "display_data"
    }
   ],
   "source": [
    "plt.plot(raw_df['price'], raw_df['joint_wc'])"
   ]
  },
  {
   "cell_type": "code",
   "execution_count": 93,
   "id": "14fee40c",
   "metadata": {},
   "outputs": [
    {
     "data": {
      "text/plain": [
       "[<matplotlib.lines.Line2D at 0x121a20ac0>]"
      ]
     },
     "execution_count": 93,
     "metadata": {},
     "output_type": "execute_result"
    },
    {
     "data": {
      "image/png": "[encoded data removed]",
      "text/plain": [
       "<Figure size 432x288 with 1 Axes>"
      ]
     },
     "metadata": {
      "needs_background": "light"
     },
     "output_type": "display_data"
    }
   ],
   "source": [
    "plt.plot(raw_df['price'], raw_df['balcony'])"
   ]
  },
  {
   "cell_type": "code",
   "execution_count": 95,
   "id": "d3d69b0a",
   "metadata": {},
   "outputs": [
    {
     "data": {
      "text/plain": [
       "[<matplotlib.lines.Line2D at 0x121ddd0d0>]"
      ]
     },
     "execution_count": 95,
     "metadata": {},
     "output_type": "execute_result"
    },
    {
     "data": {
      "image/png": "[encoded data removed]",
      "text/plain": [
       "<Figure size 432x288 with 1 Axes>"
      ]
     },
     "metadata": {
      "needs_background": "light"
     },
     "output_type": "display_data"
    }
   ],
   "source": [
    "plt.plot(raw_df['price'], raw_df['living_square_ratio'])"
   ]
  },
  {
   "cell_type": "code",
   "execution_count": 96,
   "id": "c16fa2ab",
   "metadata": {},
   "outputs": [
    {
     "data": {
      "text/plain": [
       "[<matplotlib.lines.Line2D at 0x1223d00a0>]"
      ]
     },
     "execution_count": 96,
     "metadata": {},
     "output_type": "execute_result"
    },
    {
     "data": {
      "image/png": "[encoded data removed]",
      "text/plain": [
       "<Figure size 432x288 with 1 Axes>"
      ]
     },
     "metadata": {
      "needs_background": "light"
     },
     "output_type": "display_data"
    }
   ],
   "source": [
    "plt.plot(raw_df['price'], raw_df['placed_days_ago'])"
   ]
  },
  {
   "cell_type": "code",
   "execution_count": 99,
   "id": "f9235401",
   "metadata": {},
   "outputs": [],
   "source": [
    "import seaborn as sns"
   ]
  },
  {
   "cell_type": "code",
   "execution_count": 74,
   "id": "e622d4a8",
   "metadata": {},
   "outputs": [
    {
     "ename": "NameError",
     "evalue": "name 'plt' is not defined",
     "output_type": "error",
     "traceback": [
      "\u001b[0;31m---------------------------------------------------------------------------\u001b[0m",
      "\u001b[0;31mNameError\u001b[0m                                 Traceback (most recent call last)",
      "\u001b[0;32m/var/folders/71/9dvvq86j7nx2yvtzdl040wtw0000gn/T/ipykernel_87214/892610575.py\u001b[0m in \u001b[0;36m<module>\u001b[0;34m\u001b[0m\n\u001b[0;32m----> 1\u001b[0;31m \u001b[0mplt\u001b[0m\u001b[0;34m.\u001b[0m\u001b[0mfigure\u001b[0m\u001b[0;34m(\u001b[0m\u001b[0mfigsize\u001b[0m\u001b[0;34m=\u001b[0m\u001b[0;34m(\u001b[0m\u001b[0;36m25\u001b[0m\u001b[0;34m,\u001b[0m \u001b[0;36m6\u001b[0m\u001b[0;34m)\u001b[0m\u001b[0;34m)\u001b[0m\u001b[0;34m\u001b[0m\u001b[0;34m\u001b[0m\u001b[0m\n\u001b[0m\u001b[1;32m      2\u001b[0m \u001b[0mbar_plot\u001b[0m \u001b[0;34m=\u001b[0m \u001b[0msns\u001b[0m\u001b[0;34m.\u001b[0m\u001b[0mcountplot\u001b[0m\u001b[0;34m(\u001b[0m\u001b[0mdata\u001b[0m\u001b[0;34m=\u001b[0m\u001b[0mraw_df\u001b[0m\u001b[0;34m,\u001b[0m \u001b[0mx\u001b[0m\u001b[0;34m=\u001b[0m\u001b[0;34m\"built\"\u001b[0m\u001b[0;34m,\u001b[0m \u001b[0my\u001b[0m\u001b[0;34m=\u001b[0m\u001b[0;34m\"price\"\u001b[0m\u001b[0;34m)\u001b[0m\u001b[0;34m\u001b[0m\u001b[0;34m\u001b[0m\u001b[0m\n\u001b[1;32m      3\u001b[0m \u001b[0mbar_plot\u001b[0m\u001b[0;34m.\u001b[0m\u001b[0mset_xticklabels\u001b[0m\u001b[0;34m(\u001b[0m\u001b[0mbar_plot\u001b[0m\u001b[0;34m.\u001b[0m\u001b[0mget_xticklabels\u001b[0m\u001b[0;34m(\u001b[0m\u001b[0;34m)\u001b[0m\u001b[0;34m,\u001b[0m \u001b[0mrotation\u001b[0m\u001b[0;34m=\u001b[0m\u001b[0;36m90\u001b[0m\u001b[0;34m)\u001b[0m\u001b[0;34m;\u001b[0m\u001b[0;34m\u001b[0m\u001b[0;34m\u001b[0m\u001b[0m\n",
      "\u001b[0;31mNameError\u001b[0m: name 'plt' is not defined"
     ]
    }
   ],
   "source": [
    "plt.figure(figsize=(25, 6))\n",
    "bar_plot = sns.barplot(data=raw_df, x=\"built\", y=\"price\")\n",
    "bar_plot.set_xticklabels(bar_plot.get_xticklabels(), rotation=90);"
   ]
  },
  {
   "cell_type": "code",
   "execution_count": 105,
   "id": "0e2e7a21",
   "metadata": {},
   "outputs": [
    {
     "data": {
      "text/plain": [
       "<AxesSubplot:xlabel='built', ylabel='general_sq'>"
      ]
     },
     "execution_count": 105,
     "metadata": {},
     "output_type": "execute_result"
    },
    {
     "data": {
      "image/png": "[encoded data removed]",
      "text/plain": [
       "<Figure size 432x288 with 1 Axes>"
      ]
     },
     "metadata": {
      "needs_background": "light"
     },
     "output_type": "display_data"
    }
   ],
   "source": [
    "sns.lineplot(data=raw_df, x=\"built\", y=\"general_sq\")"
   ]
  },
  {
   "cell_type": "code",
   "execution_count": 109,
   "id": "5391237a",
   "metadata": {},
   "outputs": [
    {
     "data": {
      "image/png": "[encoded data removed]",
      "text/plain": [
       "<Figure size 1800x432 with 1 Axes>"
      ]
     },
     "metadata": {
      "needs_background": "light"
     },
     "output_type": "display_data"
    }
   ],
   "source": [
    "plt.figure(figsize=(25, 6))\n",
    "built_cnt_plt = sns.countplot(data=raw_df, x=\"built\")\n",
    "built_cnt_plt.set_xticklabels(built_cnt_plt.get_xticklabels(), rotation=90);"
   ]
  },
  {
   "cell_type": "code",
   "execution_count": 114,
   "id": "ab993ceb",
   "metadata": {},
   "outputs": [
    {
     "data": {
      "text/plain": [
       "pandas.core.series.Series"
      ]
     },
     "execution_count": 114,
     "metadata": {},
     "output_type": "execute_result"
    }
   ],
   "source": [
    "rounded = raw_df['general_sq'].round()\n"
   ]
  },
  {
   "cell_type": "code",
   "execution_count": 117,
   "id": "0690d5de",
   "metadata": {},
   "outputs": [
    {
     "data": {
      "image/png": "[encoded data removed]",
      "text/plain": [
       "<Figure size 1800x432 with 1 Axes>"
      ]
     },
     "metadata": {
      "needs_background": "light"
     },
     "output_type": "display_data"
    }
   ],
   "source": [
    "plt.figure(figsize=(25, 6))\n",
    "general_sq_cnt_plt = sns.countplot(x=rounded)\n",
    "general_sq_cnt_plt.set_xticklabels(general_sq_cnt_plt.get_xticklabels(), rotation=90);"
   ]
  },
  {
   "cell_type": "code",
   "execution_count": 1,
   "id": "a15bd5b7",
   "metadata": {},
   "outputs": [],
   "source": [
    "import seaborn as sns"
   ]
  },
  {
   "cell_type": "code",
   "execution_count": null,
   "id": "af78212a",
   "metadata": {},
   "outputs": [],
   "source": []
  }
 ],
 "metadata": {
  "kernelspec": {
   "display_name": "Python 3",
   "language": "python",
   "name": "python3"
  },
  "language_info": {
   "codemirror_mode": {
    "name": "ipython",
    "version": 3
   },
   "file_extension": ".py",
   "mimetype": "text/x-python",
   "name": "python",
   "nbconvert_exporter": "python",
   "pygments_lexer": "ipython3",
   "version": "3.8.3"
  }
 },
 "nbformat": 4,
 "nbformat_minor": 5
}
